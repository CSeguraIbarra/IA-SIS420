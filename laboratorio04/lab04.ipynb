{
 "cells": [
  {
   "cell_type": "markdown",
   "metadata": {},
   "source": [
    "***LABORATORIO 4***"
   ]
  },
  {
   "cell_type": "markdown",
   "metadata": {},
   "source": [
    "**DEL LAB01**"
   ]
  },
  {
   "cell_type": "markdown",
   "metadata": {},
   "source": [
    "Para predecir el precio de la miel. El archivo /content/gdrive/MyDrive/420/dataset lab01/honey_purity_dataset20K.csv contiene un conjunto de datos en el que contiene las siguientes columnas.\n",
    "\n",
    "\n",
    "*   Puntuación de color\n",
    "*   Densidad\n",
    "*   Contenido de agua\n",
    "*   Nivel de pH\n",
    "*   Conductividad electrica\n",
    "*   Nivel de fructosa\n",
    "*   Nivel de glucosa\n",
    "*   Viscosidad\n",
    "*   Pureza"
   ]
  },
  {
   "cell_type": "markdown",
   "metadata": {},
   "source": [
    "**REGRESION LINEAL MULTIPLE SIN REGULARIZACION** "
   ]
  },
  {
   "cell_type": "code",
   "execution_count": 1,
   "metadata": {},
   "outputs": [],
   "source": [
    "# utilizado para manejos de directorios y rutas\n",
    "import os\n",
    "\n",
    "# Computacion vectorial y cientifica para python\n",
    "import numpy as np\n",
    "\n",
    "# Librerias para graficación (trazado de gráficos)\n",
    "from matplotlib import pyplot\n",
    "from mpl_toolkits.mplot3d import Axes3D  # Necesario para graficar superficies 3D\n",
    "\n",
    "# llama a matplotlib a embeber graficas dentro de los cuadernillos\n",
    "%matplotlib inline"
   ]
  },
  {
   "cell_type": "code",
   "execution_count": 2,
   "metadata": {},
   "outputs": [
    {
     "name": "stdout",
     "output_type": "stream",
     "text": [
      "18000\n",
      "  X[:,0]  X[:,1]  X[:,2]  X[:,3]  X[:,4]  X[:,5]  X[:,6]  X[:,7]  X[:,8]         y\n",
      "----------------------------------------------------------------------------------------\n",
      "    2.81    1.75   23.04    6.29    0.76   39.02   33.63 4844.50    0.68    645.24\n",
      "    9.47    1.82   17.50    7.20    0.71   38.15   34.41 6689.02    0.89    385.85\n",
      "    4.61    1.84   23.72    7.31    0.80   27.47   34.36 6883.60    0.66    639.64\n",
      "    1.77    1.40   16.61    4.01    0.78   31.52   28.15 7167.56    1.00    946.46\n",
      "    6.11    1.25   19.63    4.82    0.90   29.65   42.52 5125.44    1.00    432.62\n",
      "    2.17    1.35   20.67    4.11    0.75   27.19   43.54 3967.30    0.80    593.55\n",
      "    7.15    1.57   13.37    5.79    0.89   43.38   44.94 7384.93    0.95    838.98\n",
      "    3.17    1.23   23.35    6.64    0.85   43.50   36.33 5598.87    0.66    639.64\n",
      "    4.98    1.73   16.60    6.61    0.74   22.49   44.74 8800.10    0.95    238.05\n",
      "    8.49    1.50   15.75    4.50    0.86   49.59   38.13 2675.60    0.82    777.84\n"
     ]
    }
   ],
   "source": [
    "# Cargar datos\n",
    "data = np.loadtxt('C:/Users/kiens/OneDrive/Escritorio/1-24/SIS420/IA-SIS420 - copia/laboratorio01/honey_purity_dataset20K.csv', delimiter=',')\n",
    "\n",
    "# Separar características (X) y variable objetivo (y), en este caso se va a hacer el 90% de los datos para entrenamiento y el 10% para test\n",
    "X = data[:18000, :9]\n",
    "y = data[:18000, 9]  #la columna 9 contiene el precio\n",
    "Xtrain = data[18000:, :9]\n",
    "Ytrain= data[18000:, 9]\n",
    "\n",
    "# Obtener la cantidad de filas (tamaño de muestra)\n",
    "m = y.size\n",
    "print(m)\n",
    "\n",
    "# Imprimir algunos puntos de datos\n",
    "print('{:>8s}{:>8s}{:>8s}{:>8s}{:>8s}{:>8s}{:>8s}{:>8s}{:>8s}{:>10s}'.format('X[:,0]', 'X[:,1]', 'X[:,2]', 'X[:,3]', 'X[:,4]', 'X[:,5]', 'X[:,6]', 'X[:,7]', 'X[:,8]', 'y'))\n",
    "print('-' * 88)\n",
    "for i in range(10):\n",
    "    print('{:8.2f}{:8.2f}{:8.2f}{:8.2f}{:8.2f}{:8.2f}{:8.2f}{:8.2f}{:8.2f}{:10.2f}'.format(X[i, 0], X[i, 1], X[i, 2], X[i, 3], X[i, 4], X[i, 5], X[i, 6], X[i, 7], X[i, 8], y[i]))"
   ]
  },
  {
   "cell_type": "code",
   "execution_count": 3,
   "metadata": {},
   "outputs": [],
   "source": [
    "def featureNormalize(X):\n",
    "    # Copia la matriz de características para no modificar la original\n",
    "    X_norm = X.copy()\n",
    "\n",
    "    # Inicializa vectores para almacenar medias y desviaciones estándar de las características\n",
    "    mu = np.zeros(X.shape[1])  # Vector de medias\n",
    "    sigma = np.zeros(X.shape[1])  # Vector de desviaciones estándar\n",
    "\n",
    "    # Calcula las medias de las características\n",
    "    mu = np.mean(X, axis=0)\n",
    "\n",
    "    # Calcula las desviaciones estándar de las características\n",
    "    sigma = np.std(X, axis=0)\n",
    "\n",
    "    # Normaliza las características restando la media y dividiendo por la desviación estándar\n",
    "    X_norm = (X - mu) / sigma\n",
    "\n",
    "    # Devuelve la matriz de características normalizadas, el vector de medias y el vector de desviaciones estándar\n",
    "    return X_norm, mu, sigma\n"
   ]
  },
  {
   "cell_type": "code",
   "execution_count": 4,
   "metadata": {},
   "outputs": [
    {
     "name": "stdout",
     "output_type": "stream",
     "text": [
      "[[2.81000e+00 1.75000e+00 2.30400e+01 ... 3.36300e+01 4.84450e+03\n",
      "  6.80000e-01]\n",
      " [9.47000e+00 1.82000e+00 1.75000e+01 ... 3.44100e+01 6.68902e+03\n",
      "  8.90000e-01]\n",
      " [4.61000e+00 1.84000e+00 2.37200e+01 ... 3.43600e+01 6.88360e+03\n",
      "  6.60000e-01]\n",
      " ...\n",
      " [7.06000e+00 1.56000e+00 1.54400e+01 ... 2.74900e+01 6.97136e+03\n",
      "  9.70000e-01]\n",
      " [4.50000e+00 1.68000e+00 1.94400e+01 ... 2.48000e+01 5.49557e+03\n",
      "  6.60000e-01]\n",
      " [6.55000e+00 1.42000e+00 1.71700e+01 ... 3.50000e+01 7.40794e+03\n",
      "  1.00000e+00]]\n",
      "Media calculada: [5.51361667e+00 1.53591500e+00 1.85057339e+01 4.99858833e+00\n",
      " 7.99705556e-01 3.50338789e+01 3.25481350e+01 5.76090959e+03\n",
      " 8.25368333e-01]\n",
      "Desviación estandar calculada: [2.58675799e+00 1.87283376e-01 3.75277502e+00 1.44977876e+00\n",
      " 5.78800673e-02 8.65011020e+00 7.18968743e+00 2.45917353e+03\n",
      " 1.39480775e-01]\n",
      "[[-1.04517573  1.14310733  1.20824352 ...  0.15047455 -0.37264942\n",
      "  -1.04221054]\n",
      " [ 1.52947564  1.51687249 -0.26799738 ...  0.25896327  0.37740745\n",
      "   0.4633733 ]\n",
      " [-0.34932401  1.62366253  1.38944277 ...  0.25200887  0.45653159\n",
      "  -1.18559947]\n",
      " ...\n",
      " [ 0.5978075   0.12860191 -0.81692451 ... -0.70352641  0.49221838\n",
      "   1.03692905]\n",
      " [-0.39184828  0.76934218  0.2489534  ... -1.07767341 -0.10789787\n",
      "  -1.18559947]\n",
      " [ 0.40064952 -0.6189284  -0.35593231 ...  0.34102526  0.66974957\n",
      "   1.25201245]]\n"
     ]
    }
   ],
   "source": [
    "# llama featureNormalize con los datos cargados\n",
    "X_norm, mu, sigma = featureNormalize(X)\n",
    "\n",
    "print(X)\n",
    "print('Media calculada:', mu)\n",
    "print('Desviación estandar calculada:', sigma)\n",
    "print(X_norm)"
   ]
  },
  {
   "cell_type": "code",
   "execution_count": 5,
   "metadata": {},
   "outputs": [
    {
     "name": "stdout",
     "output_type": "stream",
     "text": [
      "[[ 1.         -1.04517573  1.14310733 ...  0.15047455 -0.37264942\n",
      "  -1.04221054]\n",
      " [ 1.          1.52947564  1.51687249 ...  0.25896327  0.37740745\n",
      "   0.4633733 ]\n",
      " [ 1.         -0.34932401  1.62366253 ...  0.25200887  0.45653159\n",
      "  -1.18559947]\n",
      " ...\n",
      " [ 1.          0.5978075   0.12860191 ... -0.70352641  0.49221838\n",
      "   1.03692905]\n",
      " [ 1.         -0.39184828  0.76934218 ... -1.07767341 -0.10789787\n",
      "  -1.18559947]\n",
      " [ 1.          0.40064952 -0.6189284  ...  0.34102526  0.66974957\n",
      "   1.25201245]]\n"
     ]
    }
   ],
   "source": [
    "# Añade el termino de interseccion a X\n",
    "# (Columna de unos para X0)\n",
    "X = np.concatenate([np.ones((m, 1)), X_norm], axis=1)\n",
    "print(X)\n"
   ]
  },
  {
   "cell_type": "code",
   "execution_count": 6,
   "metadata": {},
   "outputs": [],
   "source": [
    "def computeCostMulti(X, y, theta):\n",
    "    # Inicializa algunos valores utiles\n",
    "    m = y.shape[0] # numero de ejemplos de entrenamiento\n",
    "\n",
    "    J = 0\n",
    "\n",
    "    h = np.dot(X, theta)\n",
    "\n",
    "    J = (1/(2 * m)) * np.sum(np.square(np.dot(X, theta) - y))\n",
    "\n",
    "    return J"
   ]
  },
  {
   "cell_type": "code",
   "execution_count": 7,
   "metadata": {},
   "outputs": [],
   "source": [
    "def gradientDescentMulti(X, y, theta, alpha, num_iters):\n",
    "\n",
    "    # Inicializa algunos valores\n",
    "    m = y.shape[0] # numero de ejemplos de entrenamiento\n",
    "\n",
    "    # realiza una copia de theta, el cual será acutalizada por el descenso por el gradiente\n",
    "    theta = theta.copy()\n",
    "\n",
    "    J_history = []\n",
    "\n",
    "    for i in range(num_iters):\n",
    "        theta = theta - (alpha / m) * (np.dot(X, theta) - y).dot(X)\n",
    "        J_history.append(computeCostMulti(X, y, theta))\n",
    "\n",
    "    return theta, J_history"
   ]
  },
  {
   "cell_type": "code",
   "execution_count": 8,
   "metadata": {},
   "outputs": [
    {
     "name": "stdout",
     "output_type": "stream",
     "text": [
      "theta calculado por el descenso por el gradiente: [ 5.94802307e+02  9.95511903e-01 -7.46781859e-01  2.44325466e+00\n",
      " -2.15379641e-01  8.15226687e-03 -6.25518242e-01 -1.34301033e+00\n",
      " -1.93387324e+00  1.03073002e+02]\n"
     ]
    },
    {
     "data": {
      "image/png": "[encoded data removed]",
      "text/plain": [
       "<Figure size 640x480 with 1 Axes>"
      ]
     },
     "metadata": {},
     "output_type": "display_data"
    }
   ],
   "source": [
    "# Elegir algun valor para alpha (probar varias alternativas)\n",
    "alpha = 0.001 # alpha = 0.003\n",
    "num_iters = 10000\n",
    "\n",
    "# inicializa theta y ejecuta el descenso por el gradiente\n",
    "theta = np.zeros(10)\n",
    "theta, J_history = gradientDescentMulti(X, y, theta, alpha, num_iters)\n",
    "\n",
    "# Grafica la convergencia del costo\n",
    "pyplot.plot(np.arange(len(J_history)), J_history, lw=2)\n",
    "pyplot.xlabel('Numero de iteraciones')\n",
    "pyplot.ylabel('Costo J')\n",
    "\n",
    "# Muestra los resultados del descenso por el gradiente\n",
    "print('theta calculado por el descenso por el gradiente: {:s}'.format(str(theta)))"
   ]
  },
  {
   "cell_type": "code",
   "execution_count": 9,
   "metadata": {},
   "outputs": [
    {
     "name": "stdout",
     "output_type": "stream",
     "text": [
      "[[ 1.         -1.26119069 -0.49919155 ... -0.70056945 -1.2896724\n",
      "   0.659696  ]\n",
      " [ 1.          0.61736063  1.24660341 ... -0.01379468 -0.90237266\n",
      "   1.23138728]\n",
      " [ 1.          1.28854734  1.5111178  ...  1.16707257  1.44429624\n",
      "  -0.19784091]\n",
      " ...\n",
      " [ 1.         -0.30069936  1.66982643 ... -0.09637281  1.56853424\n",
      "  -0.19784091]\n",
      " [ 1.         -1.23033153  1.35240916 ...  0.70050614 -1.19893137\n",
      "   0.44531177]\n",
      " [ 1.          1.0185297   0.77047751 ...  0.69224833  0.148903\n",
      "   0.08800473]]\n"
     ]
    }
   ],
   "source": [
    "Xtrain_norm, mu, sigma = featureNormalize(Xtrain)\n",
    "Xtrain = np.concatenate([np.ones((Xtrain.shape[0], 1)), Xtrain_norm], axis=1)\n",
    "print(Xtrain)"
   ]
  },
  {
   "cell_type": "code",
   "execution_count": 10,
   "metadata": {},
   "outputs": [
    {
     "name": "stdout",
     "output_type": "stream",
     "text": [
      "Precio predicho: [667.18113232 724.73880218 571.27287677 ... 573.12680664 639.12318723\n",
      " 606.94519329]\n",
      "Valores reales: [398.84 543.41 256.46 ... 768.28 871.11 584.69]\n"
     ]
    }
   ],
   "source": [
    "#calcular el precio\n",
    "price = np.dot(Xtrain, theta)\n",
    "\n",
    "print(\"Precio predicho:\", price)\n",
    "print(\"Valores reales:\", Ytrain)\n"
   ]
  },
  {
   "cell_type": "code",
   "execution_count": 11,
   "metadata": {},
   "outputs": [
    {
     "name": "stdout",
     "output_type": "stream",
     "text": [
      "Error porcentual: [ 67.28039623  33.36869071 122.75320782 ...  25.40131116  26.63117319\n",
      "   3.80632357]\n",
      "Error porcentual promedio: 46.80994866554491\n"
     ]
    }
   ],
   "source": [
    "# Calcular el error porcentual\n",
    "error_porcentual = np.abs(Ytrain - price) / Ytrain * 100\n",
    "\n",
    "# Imprimir el error porcentual\n",
    "print(\"Error porcentual:\", error_porcentual)\n",
    "\n",
    "# Calcular el promedio del error porcentual\n",
    "#mean -> para calcular el valor promedio de los elementos de un array \n",
    "error_porcentual_promedio = np.mean(error_porcentual)\n",
    "\n",
    "# Imprimir el error porcentual promedio\n",
    "print(\"Error porcentual promedio:\", error_porcentual_promedio)"
   ]
  },
  {
   "cell_type": "markdown",
   "metadata": {},
   "source": [
    "**REGRESION LINEAL MULTIPLE CON REGULARIZACION** "
   ]
  },
  {
   "cell_type": "code",
   "execution_count": 12,
   "metadata": {},
   "outputs": [],
   "source": [
    "#regresion lineal multiple con regularizacion\n",
    "def computeCostMultiReg(X, y, theta, lambda_):\n",
    "    # Inicializa algunos valores utiles\n",
    "    m = y.shape[0] # numero de ejemplos de entrenamiento\n",
    "\n",
    "    J = 0\n",
    "\n",
    "    h = np.dot(X, theta)\n",
    "    temp=theta\n",
    "    temp[0]=0\n",
    "    J = (1/(2 * m)) * np.sum(np.square(np.dot(X, theta) - y)) + (lambda_ / (2 * m)) * np.sum(np.square(temp))\n",
    "\n",
    "    return J\n"
   ]
  },
  {
   "cell_type": "code",
   "execution_count": 13,
   "metadata": {},
   "outputs": [],
   "source": [
    "#descenso por el gradiente con regularizacion \n",
    "def gradientDescentMultiReg(X, y, theta, alpha, num_iters, lambda_):\n",
    "\n",
    "    # Inicializa algunos valores\n",
    "    m = y.shape[0] # numero de ejemplos de entrenamiento\n",
    "\n",
    "    # realiza una copia de theta, el cual será acutalizada por el descenso por el gradiente\n",
    "    theta = theta.copy()\n",
    "\n",
    "    J_history = []\n",
    "\n",
    "    for i in range(num_iters):\n",
    "        #theta = theta - (alpha / m) * (np.dot(X, theta) - y).dot(X) + (lambda_ / m) * theta\n",
    "        theta = theta - (alpha / m) * (np.dot(X, theta) - y).dot(X) + (lambda_ / m) * theta\n",
    "        J_history.append(computeCostMultiReg(X, y, theta, lambda_))\n",
    "\n",
    "    return theta, J_history"
   ]
  },
  {
   "cell_type": "code",
   "execution_count": 14,
   "metadata": {},
   "outputs": [
    {
     "name": "stdout",
     "output_type": "stream",
     "text": [
      "theta calculado por el descenso por el gradiente: [ 0.00000000e+00 -6.72460142e-01  2.48302533e+00 -4.76490579e-02\n",
      "  9.74644115e-03 -6.29275051e-01 -1.34046701e+00 -1.96368627e+00\n",
      "  1.03775775e+02]\n"
     ]
    },
    {
     "data": {
      "image/png": "[encoded data removed]",
      "text/plain": [
       "<Figure size 640x480 with 1 Axes>"
      ]
     },
     "metadata": {},
     "output_type": "display_data"
    }
   ],
   "source": [
    "# Elegir algun valor para alpha (probar varias alternativas)\n",
    "alpha = 0.001 \n",
    "#alpha = 0.003\n",
    "num_iters = 10000\n",
    "lambda_ = 0.1\n",
    "\n",
    "# inicializa theta y ejecuta el descenso por el gradiente\n",
    "theta = np.zeros(9)\n",
    "theta, J_history = gradientDescentMultiReg(X_norm, y, theta, alpha, num_iters,lambda_)\n",
    "\n",
    "# Grafica la convergencia del costo\n",
    "pyplot.plot(np.arange(len(J_history)), J_history, lw=2)\n",
    "pyplot.xlabel('Numero de iteraciones')\n",
    "pyplot.ylabel('Costo J')\n",
    "\n",
    "# Muestra los resultados del descenso por el gradiente\n",
    "print('theta calculado por el descenso por el gradiente: {:s}'.format(str(theta)))\n"
   ]
  },
  {
   "cell_type": "code",
   "execution_count": 15,
   "metadata": {},
   "outputs": [
    {
     "name": "stdout",
     "output_type": "stream",
     "text": [
      "Precio predicho: [ 74.25224528 130.25784694 -25.00312598 ... -21.38984353  46.11062206\n",
      "  11.27396354]\n",
      "Valores reales: [398.84 543.41 256.46 ... 768.28 871.11 584.69]\n"
     ]
    }
   ],
   "source": [
    "#calcular el precio\n",
    "pricereg = np.dot(Xtrain_norm, theta)\n",
    "\n",
    "print(\"Precio predicho:\", pricereg)\n",
    "print(\"Valores reales:\", Ytrain)"
   ]
  },
  {
   "cell_type": "code",
   "execution_count": 16,
   "metadata": {},
   "outputs": [
    {
     "name": "stdout",
     "output_type": "stream",
     "text": [
      "-121.87787140000488\n",
      "612.96\n"
     ]
    }
   ],
   "source": [
    "print(pricereg[1800])\n",
    "print(Ytrain[1800])"
   ]
  },
  {
   "cell_type": "code",
   "execution_count": 17,
   "metadata": {},
   "outputs": [
    {
     "name": "stdout",
     "output_type": "stream",
     "text": [
      "Error porcentual: [ 81.38294923  76.02954547 109.74932776 ... 102.78412083  94.70668204\n",
      "  98.07180497]\n",
      "Error porcentual promedio: 103.77251456151696\n"
     ]
    }
   ],
   "source": [
    "# Calcular el error porcentual\n",
    "error_porcentualreg = np.abs(Ytrain - pricereg) / Ytrain * 100\n",
    "\n",
    "# Imprimir el error porcentual\n",
    "print(\"Error porcentual:\", error_porcentualreg)\n",
    "\n",
    "# Calcular el promedio del error porcentual\n",
    "#mean -> para calcular el valor promedio de los elementos de un array \n",
    "error_porcentual_promedioreg = np.mean(error_porcentualreg)\n",
    "\n",
    "# Imprimir el error porcentual promedio\n",
    "print(\"Error porcentual promedio:\", error_porcentual_promedioreg)"
   ]
  },
  {
   "cell_type": "markdown",
   "metadata": {},
   "source": [
    "**ECUACION DE LA NORMAL SIN REGULARIZACION**"
   ]
  },
  {
   "cell_type": "code",
   "execution_count": 18,
   "metadata": {},
   "outputs": [],
   "source": [
    "# Cargar datos\n",
    "data = np.loadtxt('C:/Users/kiens/OneDrive/Escritorio/1-24/SIS420/IA-SIS420 - copia/laboratorio01/honey_purity_dataset20K.csv', delimiter=',')\n",
    "# Separar características (X) y variable objetivo (y), en este caso se va a hacer el 90% de los datos para entrenamiento y el 10% para test\n",
    "X = data[:18000, :9]\n",
    "y = data[:18000, 9]  #la columna 9 contiene el precio\n",
    "Xtrain = data[18000:, :9]\n",
    "Ytrain= data[18000:, 9]\n",
    "m = y.size\n",
    "X_cn = np.concatenate([np.ones((m, 1)), X], axis=1)\n",
    "Xtrain_cn = np.concatenate([np.ones((Xtrain.shape[0], 1)), Xtrain], axis=1)"
   ]
  },
  {
   "cell_type": "code",
   "execution_count": 19,
   "metadata": {},
   "outputs": [],
   "source": [
    "def normalEqn(X, y):\n",
    "\n",
    "    theta = np.zeros(X.shape[1])\n",
    "\n",
    "    theta = np.dot(np.dot(np.linalg.inv(np.dot(X.T,X)),X.T),y)\n",
    "\n",
    "    return theta"
   ]
  },
  {
   "cell_type": "code",
   "execution_count": 20,
   "metadata": {},
   "outputs": [
    {
     "name": "stdout",
     "output_type": "stream",
     "text": [
      "Theta calculado a partir de la ecuación de la normal: [-9.79309918e+00  3.80869253e-01 -3.91482095e+00  6.52225361e-01\n",
      " -1.27362884e-01  1.26203564e-01 -7.22021776e-02 -1.86621168e-01\n",
      " -7.87362540e-04  7.39234272e+02]\n"
     ]
    }
   ],
   "source": [
    "# Calcula los parametros con la ecuación de la normal\n",
    "theta = normalEqn(X_cn, y);\n",
    "\n",
    "# Muestra los resultados optenidos a partir de la aplicación de la ecuación de la normal\n",
    "print('Theta calculado a partir de la ecuación de la normal: {:s}'.format(str(theta)));\n"
   ]
  },
  {
   "cell_type": "code",
   "execution_count": 21,
   "metadata": {},
   "outputs": [
    {
     "name": "stdout",
     "output_type": "stream",
     "text": [
      "Precio predicho: [669.11916989 726.85127427 572.86837111 ... 574.77645072 640.99252865\n",
      " 608.630625  ]\n",
      "Valores reales: [398.84 543.41 256.46 ... 768.28 871.11 584.69]\n"
     ]
    }
   ],
   "source": [
    "#calcular el precio con la ecuacion de la normal\n",
    "price = np.dot(Xtrain_cn, theta)\n",
    "print(\"Precio predicho:\", price)\n",
    "print(\"Valores reales:\", Ytrain)"
   ]
  },
  {
   "cell_type": "code",
   "execution_count": 22,
   "metadata": {},
   "outputs": [
    {
     "name": "stdout",
     "output_type": "stream",
     "text": [
      "Error porcentual: [ 67.76631478  33.7574344  123.37532992 ...  25.18659203  26.41658015\n",
      "   4.09458431]\n",
      "Error porcentual promedio: 46.89666372184196\n"
     ]
    }
   ],
   "source": [
    "# Calcular el error porcentual\n",
    "error_porcentual = np.abs(Ytrain - price) / Ytrain * 100\n",
    "\n",
    "# Imprimir el error porcentual\n",
    "print(\"Error porcentual:\", error_porcentual)\n",
    "\n",
    "# Calcular el promedio del error porcentual\n",
    "#mean -> para calcular el valor promedio de los elementos de un array \n",
    "error_porcentual_promedio = np.mean(error_porcentual)\n",
    "\n",
    "# Imprimir el error porcentual promedio\n",
    "print(\"Error porcentual promedio:\", error_porcentual_promedio)"
   ]
  },
  {
   "cell_type": "markdown",
   "metadata": {},
   "source": [
    "**ECUACION DE LA NORMAL CON REGULARIZACION**"
   ]
  },
  {
   "cell_type": "code",
   "execution_count": 23,
   "metadata": {},
   "outputs": [],
   "source": [
    "#ecuacion de la normal con regularizacion \n",
    "def normalEqnReg(X, y, lambda_):\n",
    "\n",
    "    theta = np.zeros(X.shape[1])\n",
    "\n",
    "    theta = np.dot(np.dot(np.linalg.inv(np.dot(X.T,X) + lambda_ * np.identity(X.shape[1])),X.T),y)\n",
    "\n",
    "    return theta"
   ]
  },
  {
   "cell_type": "code",
   "execution_count": 24,
   "metadata": {},
   "outputs": [
    {
     "name": "stdout",
     "output_type": "stream",
     "text": [
      "Theta calculado a partir de la ecuación de la normal: [ 3.69129978e-01 -5.09072692e+00  6.18566581e-01 -2.18877931e-01\n",
      " -5.48386808e+00 -8.35903866e-02 -2.01387023e-01 -8.08457715e-04\n",
      "  7.37621991e+02]\n"
     ]
    }
   ],
   "source": [
    "# calcular los parametros con la ecuacion de la normal con regularizacion\n",
    "lambda_ = 0.1\n",
    "theta = normalEqnReg(X, y, lambda_);\n",
    "print('Theta calculado a partir de la ecuación de la normal: {:s}'.format(str(theta)));"
   ]
  },
  {
   "cell_type": "code",
   "execution_count": 25,
   "metadata": {},
   "outputs": [
    {
     "name": "stdout",
     "output_type": "stream",
     "text": [
      "Precio predicho: [668.70027086 726.85204333 572.04210318 ... 574.76174085 641.03479728\n",
      " 607.75785076]\n",
      "Valores reales: [398.84 543.41 256.46 ... 768.28 871.11 584.69]\n"
     ]
    }
   ],
   "source": [
    "#calcular el precio con la ecuacion de la normal\n",
    "price = np.dot(Xtrain, theta)\n",
    "print(\"Precio predicho:\", price)\n",
    "print(\"Valores reales:\", Ytrain)"
   ]
  },
  {
   "cell_type": "code",
   "execution_count": 26,
   "metadata": {},
   "outputs": [
    {
     "name": "stdout",
     "output_type": "stream",
     "text": [
      "Error porcentual: [ 67.66128544  33.75757592 123.05314793 ...  25.18850668  26.41172788\n",
      "   3.94531303]\n",
      "Error porcentual promedio: 46.89600765813732\n"
     ]
    }
   ],
   "source": [
    "# Calcular el error porcentual\n",
    "error_porcentual = np.abs(Ytrain - price) / Ytrain * 100\n",
    "\n",
    "# Imprimir el error porcentual\n",
    "print(\"Error porcentual:\", error_porcentual)\n",
    "\n",
    "# Calcular el promedio del error porcentual\n",
    "#mean -> para calcular el valor promedio de los elementos de un array \n",
    "error_porcentual_promedio = np.mean(error_porcentual)\n",
    "\n",
    "# Imprimir el error porcentual promedio\n",
    "print(\"Error porcentual promedio:\", error_porcentual_promedio)"
   ]
  },
  {
   "cell_type": "markdown",
   "metadata": {},
   "source": [
    "**DEL LAB02**"
   ]
  },
  {
   "cell_type": "markdown",
   "metadata": {},
   "source": [
    "Aplicando un modelo de regresión logistica(clasificación) para predecir la probabilidad de abandono de un cliente del servicio bancario."
   ]
  },
  {
   "cell_type": "markdown",
   "metadata": {},
   "source": [
    "El dataset cuenta con los siguientes datos:\n",
    "- Apellido: Etiqueta de apellidos codificados\n",
    "- Surname_tfidf_0-4: Funciones creadas aplicando TFIDF Vectorizer a los apellidos\n",
    "- Puntuación crediticia: Un valor numérico que representa la puntuación crediticia del cliente\n",
    "- Geografía: El país donde reside el cliente (Francia, España o Alemania)\n",
    "- Género: El sexo del cliente (Masculino o Femenino)\n",
    "- Edad: La edad del cliente.\n",
    "- Tenencia: el número de años que el cliente ha estado en el banco\n",
    "- Saldo: el saldo de la cuenta del cliente\n",
    "- NumOfProducts: el número de productos bancarios que utiliza el cliente (por ejemplo, cuenta de ahorros, tarjeta de crédito)\n",
    "- HasCrCard: si el cliente tiene un crédito tarjeta (1 = sí, 0 = no)\n",
    "- IsActiveMember: si el cliente es un miembro activo (1 = sí, 0 = no)\n",
    "- Salarioestimado: el salario estimado del cliente\n",
    "- Alemania, Francia, España: una característica de geografía codificada en caliente\n",
    "- Masculino, femenino: una característica de género codificada en caliente\n",
    "- Mem_no_Products: NumOfProducts * IsActiveMember\n",
    "- Cred_Bal_Sal: (Puntuación de crédito * Saldo) / Salario estimado\n",
    "- Bal_sal: Saldo / Salario estimado\n",
    "- Tenure_Age: Tenure / Edad\n",
    "- Age_Tenure_product: Edad * Tenure\n",
    "\n",
    "Y la salida:\n",
    "- Salida: si el cliente ha abandonado (1 = sí , 0 = no)"
   ]
  },
  {
   "cell_type": "markdown",
   "metadata": {},
   "source": [
    "**REGRESION LOGISTICA SIN REGULARIZACION**"
   ]
  },
  {
   "cell_type": "code",
   "execution_count": 27,
   "metadata": {},
   "outputs": [
    {
     "name": "stdout",
     "output_type": "stream",
     "text": [
      "[[2.02300000e+03 6.68000000e+02 3.30000000e+01 ... 0.00000000e+00\n",
      "  9.09090909e-02 9.90000000e+01]\n",
      " [2.02400000e+03 6.27000000e+02 3.30000000e+01 ... 0.00000000e+00\n",
      "  3.03030303e-02 3.30000000e+01]\n",
      " [1.23600000e+03 6.78000000e+02 4.00000000e+01 ... 0.00000000e+00\n",
      "  2.50000000e-01 4.00000000e+02]\n",
      " ...\n",
      " [2.06200000e+03 6.19000000e+02 3.40000000e+01 ... 0.00000000e+00\n",
      "  8.82352941e-02 1.02000000e+02]\n",
      " [7.01000000e+02 5.83000000e+02 5.80000000e+01 ... 2.46233414e+00\n",
      "  1.20689655e-01 4.06000000e+02]\n",
      " [1.00100000e+03 7.06000000e+02 5.30000000e+01 ... 0.00000000e+00\n",
      "  1.50943396e-01 4.24000000e+02]]\n",
      "[0. 0. 0. ... 0. 1. 1.]\n"
     ]
    }
   ],
   "source": [
    "# Cargar datos\n",
    "data = np.loadtxt('C:/Users/kiens/OneDrive/Escritorio/1-24/SIS420/IA-SIS420 - copia/laboratorio02/datasetBank.csv', delimiter=',')\n",
    "#80% de los datos para entrenamiento y 20% para test\n",
    "X_train, y_train = data[:140022, 0:24], data[:140022, 24]\n",
    "X_test, y_test = data[140022:, 0:24], data[140022:, 24]\n",
    "X = X_train\n",
    "y = y_train\n",
    "print(X)\n",
    "print(y)"
   ]
  },
  {
   "cell_type": "code",
   "execution_count": 28,
   "metadata": {},
   "outputs": [],
   "source": [
    "def sigmoid(z):\n",
    "    # Calcula la sigmoide de una entrada z\n",
    "    # convierte la intrada a un arreglo numpy\n",
    "    z = np.array(z)\n",
    "\n",
    "    g = np.zeros(z.shape)\n",
    "\n",
    "    g = 1 / (1 + np.exp(-z))\n",
    "\n",
    "    return g"
   ]
  },
  {
   "cell_type": "code",
   "execution_count": 29,
   "metadata": {},
   "outputs": [
    {
     "name": "stdout",
     "output_type": "stream",
     "text": [
      "g( [0, 0.5, 1] ) =  [0.5        0.62245933 0.73105858]\n"
     ]
    }
   ],
   "source": [
    "# Prueba la implementacion de la funcion sigmoid\n",
    "z = [0, 0.5, 1]\n",
    "#z=0\n",
    "g = sigmoid(z)\n",
    "\n",
    "print('g(', z, ') = ', g)"
   ]
  },
  {
   "cell_type": "code",
   "execution_count": 30,
   "metadata": {},
   "outputs": [],
   "source": [
    "# llama featureNormalize que ya se tiene definido para las anteriores predicciones \n",
    "X_norm, mu, sigma = featureNormalize(X)"
   ]
  },
  {
   "cell_type": "code",
   "execution_count": 31,
   "metadata": {},
   "outputs": [],
   "source": [
    "# Configurar la matriz adecuadamente, y agregar una columna de unos que corresponde al termino de intercepción.\n",
    "m, n = X.shape\n",
    "# Agraga el termino de intercepción a A\n",
    "X = np.concatenate([np.ones((m, 1)), X_norm], axis=1)\n",
    "# X = np.concatenate([np.ones((m, 1)), X], axis=1)"
   ]
  },
  {
   "cell_type": "code",
   "execution_count": 32,
   "metadata": {},
   "outputs": [],
   "source": [
    "def calcularCosto(theta, X, y):\n",
    "    # Inicializar algunos valores utiles\n",
    "    m = y.size  # numero de ejemplos de entrenamiento\n",
    "\n",
    "    J = 0\n",
    "    h = sigmoid(X.dot(theta.T))\n",
    "    J = (1 / m) * np.sum(-y.dot(np.log(h)) - (1 - y).dot(np.log(1 - h)))\n",
    "\n",
    "    return J"
   ]
  },
  {
   "cell_type": "code",
   "execution_count": 33,
   "metadata": {},
   "outputs": [],
   "source": [
    "def descensoGradiente(theta, X, y, alpha, num_iters):\n",
    "    # Inicializa algunos valores\n",
    "    m = y.shape[0] # numero de ejemplos de entrenamiento\n",
    "\n",
    "    # realiza una copia de theta, el cual será acutalizada por el descenso por el gradiente\n",
    "    theta = theta.copy()\n",
    "    J_history = []\n",
    "\n",
    "    for i in range(num_iters):\n",
    "        h = sigmoid(X.dot(theta.T))\n",
    "        theta = theta - (alpha / m) * (h - y).dot(X)\n",
    "\n",
    "        J_history.append(calcularCosto(theta, X, y))\n",
    "    return theta, J_history"
   ]
  },
  {
   "cell_type": "code",
   "execution_count": 34,
   "metadata": {},
   "outputs": [
    {
     "name": "stdout",
     "output_type": "stream",
     "text": [
      "theta calculado por el descenso por el gradiente: [-1.77425105e+00 -1.44280037e-03 -6.04654652e-02  7.42228713e-01\n",
      "  9.88988547e-03 -1.30677752e-01 -4.53328113e-01 -7.07636425e-02\n",
      " -4.34494371e-01  4.78169155e-02 -1.78136348e-02 -5.87213336e-04\n",
      " -1.45005912e-02 -4.75008286e-02 -1.75131799e-02 -1.67374594e-01\n",
      "  3.33554691e-01 -1.27741139e-01  1.68129095e-01 -1.68129095e-01\n",
      " -2.46812653e-01 -4.02467903e-03 -2.82672878e-03 -1.85705404e-01\n",
      "  1.01477271e-01]\n"
     ]
    },
    {
     "data": {
      "image/png": "[encoded data removed]",
      "text/plain": [
       "<Figure size 640x480 with 1 Axes>"
      ]
     },
     "metadata": {},
     "output_type": "display_data"
    }
   ],
   "source": [
    "# Elegir algun valor para alpha (probar varias alternativas)\n",
    "alpha = 0.01\n",
    "num_iters = 10000\n",
    "\n",
    "# inicializa theta y ejecuta el descenso por el gradiente\n",
    "theta = np.zeros(25)\n",
    "theta, J_history = descensoGradiente(theta, X, y, alpha, num_iters)\n",
    "\n",
    "# Grafica la convergencia del costo\n",
    "pyplot.plot(np.arange(len(J_history)), J_history, lw=2)\n",
    "pyplot.xlabel('Numero de iteraciones')\n",
    "pyplot.ylabel('Costo J')\n",
    "\n",
    "# Muestra los resultados del descenso por el gradiente\n",
    "print('theta calculado por el descenso por el gradiente: {:s}'.format(str(theta)))"
   ]
  },
  {
   "cell_type": "code",
   "execution_count": 35,
   "metadata": {},
   "outputs": [
    {
     "name": "stdout",
     "output_type": "stream",
     "text": [
      "[0.13114694 0.02031236 0.02042286 ... 0.12335671 0.06086205 0.14314709]\n",
      "[0. 0. 0. ... 0. 0. 1.]\n"
     ]
    }
   ],
   "source": [
    "# Normalizar el conjunto de características de prueba y obtener la media (mu) y la desviación estándar (sigma)\n",
    "X_test_norm, mu, sigma = featureNormalize(X_test)\n",
    "\n",
    "# Obtener las dimensiones de la matriz de características normalizadas\n",
    "m, n = X_test_norm.shape\n",
    "\n",
    "# Agregar una columna de unos al inicio de la matriz de características normalizadas\n",
    "X_test_norm = np.concatenate([np.ones((m, 1)), X_test_norm], axis=1)\n",
    "\n",
    "# Calcular la salida del modelo (probabilidad de si el cliente abandona o no el servicio) para el conjunto de prueba normalizado\n",
    "abandona= sigmoid(np.dot(X_test_norm, theta))\n",
    "\n",
    "# Imprimir las probabilidades de abandono calculadas para cada instancia en el conjunto de prueba\n",
    "print(abandona)\n",
    "print(y_test)"
   ]
  },
  {
   "cell_type": "code",
   "execution_count": 36,
   "metadata": {},
   "outputs": [
    {
     "name": "stdout",
     "output_type": "stream",
     "text": [
      "[0. 0. 0. ... 0. 0. 0.]\n",
      "[0. 0. 0. ... 0. 0. 1.]\n",
      "Porcentaje de acierto: 82.6686853682226\n"
     ]
    }
   ],
   "source": [
    "#Efectividad de abandona con ytest\n",
    "abandona[abandona >= 0.5] = 1\n",
    "abandona[abandona < 0.5] = 0\n",
    "print(abandona)\n",
    "print(y_test)\n",
    "#Porcentaje de acierto\n",
    "porcentaje = np.mean(abandona == y_test) * 100\n",
    "print(\"Porcentaje de acierto:\", porcentaje)"
   ]
  },
  {
   "cell_type": "markdown",
   "metadata": {},
   "source": [
    "**REGRESION LOGISTICA CON REGULARIZACION**"
   ]
  },
  {
   "cell_type": "code",
   "execution_count": 37,
   "metadata": {},
   "outputs": [],
   "source": [
    "#regresion logistica con regularizacion\n",
    "def calcularCostoReg(theta, X, y, lambda_):\n",
    "    # Inicializar algunos valores utiles\n",
    "    m = y.size  # numero de ejemplos de entrenamiento\n",
    "\n",
    "    J = 0\n",
    "    temp=theta\n",
    "    temp[0]=0\n",
    "    h = sigmoid(X.dot(theta.T))\n",
    "    J = (1 / m) * np.sum(-y.dot(np.log(h)) - (1 - y).dot(np.log(1 - h))) + (lambda_ / (2 * m)) * np.sum(np.square(temp))\n",
    "    \n",
    "    return J"
   ]
  },
  {
   "cell_type": "code",
   "execution_count": 38,
   "metadata": {},
   "outputs": [],
   "source": [
    "#Descenso por el gradiente palicando reularizacion\n",
    "def descensoGradienteReg(theta, X, y, alpha, num_iters, lambda_):\n",
    "    # Inicializa algunos valores\n",
    "    m = y.shape[0] # numero de ejemplos de entrenamiento\n",
    "\n",
    "    # realiza una copia de theta, el cual será acutalizada por el descenso por el gradiente\n",
    "    theta = theta.copy()\n",
    "    J_history = []\n",
    "\n",
    "    for i in range(num_iters):\n",
    "        h = sigmoid(X.dot(theta.T))\n",
    "        temp=theta\n",
    "        temp[0]=0\n",
    "        theta = theta - (alpha / m) * (h - y).dot(X) + (lambda_ / m) * temp\n",
    "\n",
    "        J_history.append(calcularCostoReg(theta, X, y, lambda_))\n",
    "    return theta, J_history"
   ]
  },
  {
   "cell_type": "code",
   "execution_count": 39,
   "metadata": {},
   "outputs": [
    {
     "name": "stdout",
     "output_type": "stream",
     "text": [
      "theta calculado por el descenso por el gradiente: [ 0.         -0.03671277  0.60118482 -0.07338786 -0.11323735 -0.36439263\n",
      " -0.04104191 -0.46325865  0.02975234 -0.00797672  0.00252379 -0.00986228\n",
      " -0.02571    -0.01059221 -0.12747429  0.25848537 -0.10166004  0.1064079\n",
      " -0.1064079   0.11796305 -0.00270695 -0.00301672  0.04540415  0.00732195]\n"
     ]
    },
    {
     "data": {
      "image/png": "[encoded data removed]",
      "text/plain": [
       "<Figure size 640x480 with 1 Axes>"
      ]
     },
     "metadata": {},
     "output_type": "display_data"
    }
   ],
   "source": [
    "# Elegir algun valor para alpha (probar varias alternativas)\n",
    "alpha = 0.01\n",
    "num_iters = 10000\n",
    "lambda_ = 0.1\n",
    "# inicializa theta y ejecuta el descenso por el gradiente\n",
    "theta = np.zeros(24)\n",
    "theta, J_history = descensoGradienteReg(theta, X_norm, y, alpha, num_iters,lambda_)\n",
    "# Grafica la convergencia del costo\n",
    "pyplot.plot(np.arange(len(J_history)), J_history, lw=2)\n",
    "pyplot.xlabel('Numero de iteraciones')\n",
    "pyplot.ylabel('Costo J')\n",
    "\n",
    "# Muestra los resultados del descenso por el gradiente\n",
    "print('theta calculado por el descenso por el gradiente: {:s}'.format(str(theta)))"
   ]
  },
  {
   "cell_type": "code",
   "execution_count": 40,
   "metadata": {},
   "outputs": [
    {
     "name": "stdout",
     "output_type": "stream",
     "text": [
      "[0.56544363 0.23203042 0.2333668  ... 0.43746532 0.3380268  0.48094826]\n",
      "[0. 0. 0. ... 0. 0. 1.]\n"
     ]
    }
   ],
   "source": [
    "# Normalizar el conjunto de características de prueba y obtener la media (mu) y la desviación estándar (sigma)\n",
    "X_test_norm, mu, sigma = featureNormalize(X_test)\n",
    "\n",
    "# Obtener las dimensiones de la matriz de características normalizadas\n",
    "m, n = X_test_norm.shape\n",
    "\n",
    "# Calcular la salida del modelo (probabilidad de si el cliente abandona o no el servicio) para el conjunto de prueba normalizado\n",
    "abandona= sigmoid(np.dot(X_test_norm, theta))\n",
    "\n",
    "# Imprimir las probabilidades de abandono calculadas para cada instancia en el conjunto de prueba\n",
    "print(abandona)\n",
    "print(y_test)"
   ]
  },
  {
   "cell_type": "code",
   "execution_count": 41,
   "metadata": {},
   "outputs": [
    {
     "name": "stdout",
     "output_type": "stream",
     "text": [
      "[1. 0. 0. ... 0. 0. 0.]\n",
      "[0. 0. 0. ... 0. 0. 1.]\n",
      "Porcentaje de acierto: 67.16277209621208\n"
     ]
    }
   ],
   "source": [
    "#Efectividad de abandona con ytest\n",
    "abandona[abandona >= 0.5] = 1\n",
    "abandona[abandona < 0.5] = 0\n",
    "print(abandona)\n",
    "print(y_test)\n",
    "#Porcentaje de acierto\n",
    "porcentaje = np.mean(abandona == y_test) * 100\n",
    "print(\"Porcentaje de acierto:\", porcentaje)"
   ]
  },
  {
   "cell_type": "markdown",
   "metadata": {},
   "source": [
    "**DEL LAB03**"
   ]
  },
  {
   "cell_type": "markdown",
   "metadata": {},
   "source": [
    "Lo que se quiere buscar con el dataset es predecir el tiempo de incumplimiento de un cliente con 79 caracteristicas y \"Y\" donde se clasifica por:\n",
    "\n",
    "1: Incumplimiento en 1 a 6 meses\n",
    "\n",
    "2: Incumplimiento en 7 a 12 meses\n",
    "\n",
    "3: Incumplimiento en 13 a 18 meses\n",
    "\n",
    "0: No es un incumplidor en 18 meses"
   ]
  },
  {
   "cell_type": "markdown",
   "metadata": {},
   "source": [
    "**REGRESION LOGISTICA (CLASIFICACION MULTICLASE) CON REGULACION**"
   ]
  },
  {
   "cell_type": "code",
   "execution_count": 42,
   "metadata": {},
   "outputs": [],
   "source": [
    "# Modulo de optimizacion en scipy\n",
    "from scipy import optimize"
   ]
  },
  {
   "cell_type": "code",
   "execution_count": 43,
   "metadata": {},
   "outputs": [],
   "source": [
    "# La entrada es de 80 elemento contando con x0\n",
    "input_layer_size  = 80\n",
    "\n",
    "# 4 etiquetas\n",
    "num_labels = 4\n",
    "#Datasaet ya procesado con panda \n",
    "datax= np.loadtxt('C:/Users/kiens/OneDrive/Escritorio/1-24/SIS420/IA-SIS420 - copia/laboratorio03/train_allxPanda.csv', delimiter=',')\n",
    "datay = np.loadtxt('C:/Users/kiens/OneDrive/Escritorio/1-24/SIS420/IA-SIS420 - copia/laboratorio03/train_y.csv')\n",
    "#Considerando el 80% para el entrenamiento\n",
    "Xtrain = datax[:32000, :]\n",
    "ytrain = datay[:32000]\n",
    "# 20% para el test\n",
    "Xtest = datax[32000:40000,:]\n",
    "ytest = datay[32000:40000]\n",
    "\n",
    "\n",
    "\n",
    "#ytrain[ytrain == 3] = 0\n",
    "#ytest-=1\n",
    "#ytrain[ytrain > 0] -= 1\n",
    "#ytest[ytest > 0] -= 1\n",
    "\n",
    "# print(y)\n",
    "\n",
    "\n",
    "m = ytrain.size"
   ]
  },
  {
   "cell_type": "code",
   "execution_count": 44,
   "metadata": {},
   "outputs": [],
   "source": [
    "def  featureNormalize(X,Xt):\n",
    "    #X_norm = X.copy()\n",
    "    #mu = np.zeros(X.shape[1])\n",
    "    #sigma = np.zeros(X.shape[1])\n",
    "\n",
    "    mu = np.mean(X, axis = 0)\n",
    "    sigma = np.std(X, axis = 0)\n",
    "    X_norm = (X - mu) / sigma\n",
    "    Xt_norm = (Xt - mu) / sigma\n",
    "\n",
    "    return X_norm,Xt_norm, mu, sigma"
   ]
  },
  {
   "cell_type": "code",
   "execution_count": 45,
   "metadata": {},
   "outputs": [],
   "source": [
    "# llama featureNormalize con los datos cargados\n",
    "X_norm,Xt_norm, mu, sigma = featureNormalize(Xtrain,Xtest)"
   ]
  },
  {
   "cell_type": "code",
   "execution_count": 46,
   "metadata": {},
   "outputs": [],
   "source": [
    "# Configurar la matriz adecuadamente, y agregar una columna de unos que corresponde al termino de intercepción.\n",
    "m, n = Xtrain.shape\n",
    "# Agraga el termino de intercepción a A\n",
    "#X = np.concatenate([np.ones((m, 1)), X_norm], axis=1)\n",
    "X = X_norm\n",
    "#x,y=Xtest.shape\n",
    "#Xt = np.concatenate([np.ones((x, 1)), Xt_norm], axis=1)"
   ]
  },
  {
   "cell_type": "code",
   "execution_count": 47,
   "metadata": {},
   "outputs": [],
   "source": [
    "def sigmoid(z):\n",
    "    \"\"\"\n",
    "    Calcula la sigmoide de z.\n",
    "    \"\"\"\n",
    "    return 1.0 / (1.0 + np.exp(-z))"
   ]
  },
  {
   "cell_type": "code",
   "execution_count": 48,
   "metadata": {},
   "outputs": [],
   "source": [
    "def lrCostFunctionReg(theta, X, y, lambda_):\n",
    "    \"\"\"\n",
    "    Calcula el costo de usar theta como parámetro para la regresión logística regularizada y\n",
    "    el gradiente del costo w.r.t. a los parámetros.\n",
    "\n",
    "    Parametros\n",
    "    ----------\n",
    "    theta : array_like\n",
    "        Parametro theta de la regresion logistica. Vector de la forma(shape) (n, ). n es el numero de caracteristicas\n",
    "        incluida la intercepcion\n",
    "\n",
    "    X : array_like\n",
    "        Dataset con la forma(shape) (m x n). m es el numero de ejemplos, y n es el numero de\n",
    "        caracteristicas (incluida la intercepcion).\n",
    "\n",
    "    y : array_like\n",
    "        El conjunto de etiquetas. Un vector con la forma (shape) (m, ). m es el numero de ejemplos\n",
    "\n",
    "    lambda_ : float\n",
    "        Parametro de regularización.\n",
    "\n",
    "    Devuelve\n",
    "    -------\n",
    "    J : float\n",
    "        El valor calculado para la funcion de costo regularizada.\n",
    "\n",
    "    grad : array_like\n",
    "        Un vector de la forma (shape) (n, ) que es el gradiente de la\n",
    "        función de costo con respecto a theta, en los valores actuales de theta..\n",
    "    \"\"\"\n",
    "#     alpha = 0.003\n",
    "#     theta = theta.copy()\n",
    "    # Inicializa algunos valores utiles\n",
    "    m = y.size\n",
    "\n",
    "    # convierte las etiquetas a valores enteros si son boleanos\n",
    "    if y.dtype == bool:\n",
    "        y = y.astype(int)\n",
    "\n",
    "    J = 0\n",
    "    grad = np.zeros(theta.shape)\n",
    "\n",
    "    h = sigmoid(X.dot(theta.T))\n",
    "\n",
    "    temp = theta\n",
    "    temp[0] = 0\n",
    "\n",
    "#     J = (1 / m) * np.sum(-y.dot(np.log(h)) - (1 - y).dot(np.log(1 - h)))\n",
    "    J = (1 / m) * np.sum(-y.dot(np.log(h)) - (1 - y).dot(np.log(1 - h))) + (lambda_ / (2 * m)) * np.sum(np.square(temp))\n",
    "\n",
    "    grad = (1 / m) * (h - y).dot(X)\n",
    "#     theta = theta - (alpha / m) * (h - y).dot(X)\n",
    "    grad = grad + (lambda_ / m) * temp\n",
    "\n",
    "    return J, grad\n",
    "#    return J, theta"
   ]
  },
  {
   "cell_type": "code",
   "execution_count": 49,
   "metadata": {},
   "outputs": [],
   "source": [
    "def oneVsAllReg(X, y, num_labels, lambda_):\n",
    "    \"\"\"\n",
    "    Trains num_labels logistic regression classifiers and returns\n",
    "    each of these classifiers in a matrix all_theta, where the i-th\n",
    "    row of all_theta corresponds to the classifier for label i.\n",
    "\n",
    "    Parameters\n",
    "    ----------\n",
    "    X : array_like\n",
    "        The input dataset of shape (m x n). m is the number of\n",
    "        data points, and n is the number of features. Note that we\n",
    "        do not assume that the intercept term (or bias) is in X, however\n",
    "        we provide the code below to add the bias term to X.\n",
    "\n",
    "    y : array_like\n",
    "        The data labels. A vector of shape (m, ).\n",
    "\n",
    "    num_labels : int\n",
    "        Number of possible labels.\n",
    "\n",
    "    lambda_ : float\n",
    "        The logistic regularization parameter.\n",
    "\n",
    "    Returns\n",
    "    -------\n",
    "    all_theta : array_like\n",
    "        The trained parameters for logistic regression for each class.\n",
    "        This is a matrix of shape (K x n+1) where K is number of classes\n",
    "        (ie. `numlabels`) and n is number of features without the bias.\n",
    "    \"\"\"\n",
    "    # algunas variables utiles\n",
    "    m, n = X.shape\n",
    "\n",
    "    all_theta = np.zeros((num_labels, n + 1))\n",
    "\n",
    "    # Agrega unos a la matriz X\n",
    "    X = np.concatenate([np.ones((m, 1)), X], axis=1)\n",
    "\n",
    "    for c in np.arange(num_labels):\n",
    "        initial_theta = np.zeros(n + 1)\n",
    "        options = {'maxiter': 50}\n",
    "        res = optimize.minimize(lrCostFunctionReg,\n",
    "                                initial_theta,\n",
    "                                (X, (y == c), lambda_),\n",
    "                                jac=True,\n",
    "                                method='CG',\n",
    "                                options=options)\n",
    "\n",
    "        all_theta[c] = res.x\n",
    "\n",
    "    return all_theta"
   ]
  },
  {
   "cell_type": "code",
   "execution_count": 50,
   "metadata": {},
   "outputs": [
    {
     "name": "stderr",
     "output_type": "stream",
     "text": [
      "C:\\Users\\kiens\\AppData\\Local\\Temp\\ipykernel_15012\\3059814240.py:49: RuntimeWarning: divide by zero encountered in log\n",
      "  J = (1 / m) * np.sum(-y.dot(np.log(h)) - (1 - y).dot(np.log(1 - h))) + (lambda_ / (2 * m)) * np.sum(np.square(temp))\n",
      "C:\\Users\\kiens\\AppData\\Local\\Temp\\ipykernel_15012\\3059814240.py:49: RuntimeWarning: divide by zero encountered in log\n",
      "  J = (1 / m) * np.sum(-y.dot(np.log(h)) - (1 - y).dot(np.log(1 - h))) + (lambda_ / (2 * m)) * np.sum(np.square(temp))\n",
      "C:\\Users\\kiens\\AppData\\Local\\Temp\\ipykernel_15012\\3059814240.py:49: RuntimeWarning: divide by zero encountered in log\n",
      "  J = (1 / m) * np.sum(-y.dot(np.log(h)) - (1 - y).dot(np.log(1 - h))) + (lambda_ / (2 * m)) * np.sum(np.square(temp))\n",
      "C:\\Users\\kiens\\AppData\\Local\\Temp\\ipykernel_15012\\3059814240.py:49: RuntimeWarning: divide by zero encountered in log\n",
      "  J = (1 / m) * np.sum(-y.dot(np.log(h)) - (1 - y).dot(np.log(1 - h))) + (lambda_ / (2 * m)) * np.sum(np.square(temp))\n",
      "C:\\Users\\kiens\\AppData\\Local\\Temp\\ipykernel_15012\\3059814240.py:49: RuntimeWarning: divide by zero encountered in log\n",
      "  J = (1 / m) * np.sum(-y.dot(np.log(h)) - (1 - y).dot(np.log(1 - h))) + (lambda_ / (2 * m)) * np.sum(np.square(temp))\n",
      "C:\\Users\\kiens\\AppData\\Local\\Temp\\ipykernel_15012\\3059814240.py:49: RuntimeWarning: divide by zero encountered in log\n",
      "  J = (1 / m) * np.sum(-y.dot(np.log(h)) - (1 - y).dot(np.log(1 - h))) + (lambda_ / (2 * m)) * np.sum(np.square(temp))\n",
      "C:\\Users\\kiens\\AppData\\Local\\Temp\\ipykernel_15012\\3059814240.py:49: RuntimeWarning: divide by zero encountered in log\n",
      "  J = (1 / m) * np.sum(-y.dot(np.log(h)) - (1 - y).dot(np.log(1 - h))) + (lambda_ / (2 * m)) * np.sum(np.square(temp))\n",
      "C:\\Users\\kiens\\AppData\\Local\\Temp\\ipykernel_15012\\3059814240.py:49: RuntimeWarning: divide by zero encountered in log\n",
      "  J = (1 / m) * np.sum(-y.dot(np.log(h)) - (1 - y).dot(np.log(1 - h))) + (lambda_ / (2 * m)) * np.sum(np.square(temp))\n",
      "C:\\Users\\kiens\\AppData\\Local\\Temp\\ipykernel_15012\\3059814240.py:49: RuntimeWarning: divide by zero encountered in log\n",
      "  J = (1 / m) * np.sum(-y.dot(np.log(h)) - (1 - y).dot(np.log(1 - h))) + (lambda_ / (2 * m)) * np.sum(np.square(temp))\n",
      "C:\\Users\\kiens\\AppData\\Local\\Temp\\ipykernel_15012\\3059814240.py:49: RuntimeWarning: divide by zero encountered in log\n",
      "  J = (1 / m) * np.sum(-y.dot(np.log(h)) - (1 - y).dot(np.log(1 - h))) + (lambda_ / (2 * m)) * np.sum(np.square(temp))\n",
      "C:\\Users\\kiens\\AppData\\Local\\Temp\\ipykernel_15012\\3059814240.py:49: RuntimeWarning: divide by zero encountered in log\n",
      "  J = (1 / m) * np.sum(-y.dot(np.log(h)) - (1 - y).dot(np.log(1 - h))) + (lambda_ / (2 * m)) * np.sum(np.square(temp))\n",
      "C:\\Users\\kiens\\AppData\\Local\\Temp\\ipykernel_15012\\3059814240.py:49: RuntimeWarning: divide by zero encountered in log\n",
      "  J = (1 / m) * np.sum(-y.dot(np.log(h)) - (1 - y).dot(np.log(1 - h))) + (lambda_ / (2 * m)) * np.sum(np.square(temp))\n",
      "C:\\Users\\kiens\\AppData\\Local\\Temp\\ipykernel_15012\\3059814240.py:49: RuntimeWarning: divide by zero encountered in log\n",
      "  J = (1 / m) * np.sum(-y.dot(np.log(h)) - (1 - y).dot(np.log(1 - h))) + (lambda_ / (2 * m)) * np.sum(np.square(temp))\n",
      "C:\\Users\\kiens\\AppData\\Local\\Temp\\ipykernel_15012\\3059814240.py:49: RuntimeWarning: divide by zero encountered in log\n",
      "  J = (1 / m) * np.sum(-y.dot(np.log(h)) - (1 - y).dot(np.log(1 - h))) + (lambda_ / (2 * m)) * np.sum(np.square(temp))\n",
      "C:\\Users\\kiens\\AppData\\Local\\Temp\\ipykernel_15012\\3059814240.py:49: RuntimeWarning: divide by zero encountered in log\n",
      "  J = (1 / m) * np.sum(-y.dot(np.log(h)) - (1 - y).dot(np.log(1 - h))) + (lambda_ / (2 * m)) * np.sum(np.square(temp))\n",
      "C:\\Users\\kiens\\AppData\\Local\\Temp\\ipykernel_15012\\3059814240.py:49: RuntimeWarning: divide by zero encountered in log\n",
      "  J = (1 / m) * np.sum(-y.dot(np.log(h)) - (1 - y).dot(np.log(1 - h))) + (lambda_ / (2 * m)) * np.sum(np.square(temp))\n",
      "C:\\Users\\kiens\\AppData\\Local\\Temp\\ipykernel_15012\\3059814240.py:49: RuntimeWarning: divide by zero encountered in log\n",
      "  J = (1 / m) * np.sum(-y.dot(np.log(h)) - (1 - y).dot(np.log(1 - h))) + (lambda_ / (2 * m)) * np.sum(np.square(temp))\n",
      "C:\\Users\\kiens\\AppData\\Local\\Temp\\ipykernel_15012\\3059814240.py:49: RuntimeWarning: divide by zero encountered in log\n",
      "  J = (1 / m) * np.sum(-y.dot(np.log(h)) - (1 - y).dot(np.log(1 - h))) + (lambda_ / (2 * m)) * np.sum(np.square(temp))\n",
      "C:\\Users\\kiens\\AppData\\Local\\Temp\\ipykernel_15012\\3059814240.py:49: RuntimeWarning: divide by zero encountered in log\n",
      "  J = (1 / m) * np.sum(-y.dot(np.log(h)) - (1 - y).dot(np.log(1 - h))) + (lambda_ / (2 * m)) * np.sum(np.square(temp))\n",
      "C:\\Users\\kiens\\AppData\\Local\\Temp\\ipykernel_15012\\3059814240.py:49: RuntimeWarning: divide by zero encountered in log\n",
      "  J = (1 / m) * np.sum(-y.dot(np.log(h)) - (1 - y).dot(np.log(1 - h))) + (lambda_ / (2 * m)) * np.sum(np.square(temp))\n",
      "C:\\Users\\kiens\\AppData\\Local\\Temp\\ipykernel_15012\\3059814240.py:49: RuntimeWarning: divide by zero encountered in log\n",
      "  J = (1 / m) * np.sum(-y.dot(np.log(h)) - (1 - y).dot(np.log(1 - h))) + (lambda_ / (2 * m)) * np.sum(np.square(temp))\n",
      "C:\\Users\\kiens\\AppData\\Local\\Temp\\ipykernel_15012\\3059814240.py:49: RuntimeWarning: divide by zero encountered in log\n",
      "  J = (1 / m) * np.sum(-y.dot(np.log(h)) - (1 - y).dot(np.log(1 - h))) + (lambda_ / (2 * m)) * np.sum(np.square(temp))\n",
      "C:\\Users\\kiens\\AppData\\Local\\Temp\\ipykernel_15012\\3059814240.py:49: RuntimeWarning: divide by zero encountered in log\n",
      "  J = (1 / m) * np.sum(-y.dot(np.log(h)) - (1 - y).dot(np.log(1 - h))) + (lambda_ / (2 * m)) * np.sum(np.square(temp))\n",
      "C:\\Users\\kiens\\AppData\\Local\\Temp\\ipykernel_15012\\3059814240.py:49: RuntimeWarning: divide by zero encountered in log\n",
      "  J = (1 / m) * np.sum(-y.dot(np.log(h)) - (1 - y).dot(np.log(1 - h))) + (lambda_ / (2 * m)) * np.sum(np.square(temp))\n",
      "C:\\Users\\kiens\\AppData\\Local\\Temp\\ipykernel_15012\\3059814240.py:49: RuntimeWarning: divide by zero encountered in log\n",
      "  J = (1 / m) * np.sum(-y.dot(np.log(h)) - (1 - y).dot(np.log(1 - h))) + (lambda_ / (2 * m)) * np.sum(np.square(temp))\n",
      "C:\\Users\\kiens\\AppData\\Local\\Temp\\ipykernel_15012\\3059814240.py:49: RuntimeWarning: divide by zero encountered in log\n",
      "  J = (1 / m) * np.sum(-y.dot(np.log(h)) - (1 - y).dot(np.log(1 - h))) + (lambda_ / (2 * m)) * np.sum(np.square(temp))\n",
      "C:\\Users\\kiens\\AppData\\Local\\Temp\\ipykernel_15012\\3059814240.py:49: RuntimeWarning: divide by zero encountered in log\n",
      "  J = (1 / m) * np.sum(-y.dot(np.log(h)) - (1 - y).dot(np.log(1 - h))) + (lambda_ / (2 * m)) * np.sum(np.square(temp))\n",
      "C:\\Users\\kiens\\AppData\\Local\\Temp\\ipykernel_15012\\3059814240.py:49: RuntimeWarning: divide by zero encountered in log\n",
      "  J = (1 / m) * np.sum(-y.dot(np.log(h)) - (1 - y).dot(np.log(1 - h))) + (lambda_ / (2 * m)) * np.sum(np.square(temp))\n",
      "C:\\Users\\kiens\\AppData\\Local\\Temp\\ipykernel_15012\\3059814240.py:49: RuntimeWarning: divide by zero encountered in log\n",
      "  J = (1 / m) * np.sum(-y.dot(np.log(h)) - (1 - y).dot(np.log(1 - h))) + (lambda_ / (2 * m)) * np.sum(np.square(temp))\n",
      "C:\\Users\\kiens\\AppData\\Local\\Temp\\ipykernel_15012\\3059814240.py:49: RuntimeWarning: divide by zero encountered in log\n",
      "  J = (1 / m) * np.sum(-y.dot(np.log(h)) - (1 - y).dot(np.log(1 - h))) + (lambda_ / (2 * m)) * np.sum(np.square(temp))\n",
      "C:\\Users\\kiens\\AppData\\Local\\Temp\\ipykernel_15012\\3059814240.py:49: RuntimeWarning: divide by zero encountered in log\n",
      "  J = (1 / m) * np.sum(-y.dot(np.log(h)) - (1 - y).dot(np.log(1 - h))) + (lambda_ / (2 * m)) * np.sum(np.square(temp))\n",
      "C:\\Users\\kiens\\AppData\\Local\\Temp\\ipykernel_15012\\3059814240.py:49: RuntimeWarning: divide by zero encountered in log\n",
      "  J = (1 / m) * np.sum(-y.dot(np.log(h)) - (1 - y).dot(np.log(1 - h))) + (lambda_ / (2 * m)) * np.sum(np.square(temp))\n"
     ]
    },
    {
     "name": "stdout",
     "output_type": "stream",
     "text": [
      "(4, 80)\n"
     ]
    }
   ],
   "source": [
    "lambda_ =0.01\n",
    "all_theta = oneVsAllReg(X, ytrain, num_labels, lambda_)\n",
    "print(all_theta.shape)"
   ]
  },
  {
   "cell_type": "code",
   "execution_count": 51,
   "metadata": {},
   "outputs": [
    {
     "name": "stdout",
     "output_type": "stream",
     "text": [
      "[[ 2.17306871e+00  2.10718669e-02 -9.37613783e-03 -3.24179454e-04\n",
      "   1.59898764e-01  1.87837928e-02  4.11582033e-01 -3.95437921e-01\n",
      "   4.52316600e-01 -1.86795842e-02 -8.56255261e-03 -3.77290037e-02\n",
      "  -3.45303198e-02 -3.79893371e-01 -3.93752350e-01 -2.92263894e-01\n",
      "   2.84277709e-01 -7.91418264e-01  1.49768378e-01 -1.12448940e-01\n",
      "   7.77549552e-02 -2.76910655e-01 -2.27635144e-01  1.33979330e-01\n",
      "   7.41899963e-02  4.03434826e-02  4.52178772e-01  6.05912754e-01\n",
      "   1.62413412e-01 -4.76337739e-02 -3.11498804e-02 -2.58970688e-01\n",
      "  -1.43686388e-02  2.71468839e-02 -4.53613903e-02 -7.10128443e-01\n",
      "   1.10163462e-02 -2.47172717e-02  2.60410740e-02 -1.19646843e-02\n",
      "   1.08112093e-02 -1.51681360e-02 -1.20961660e-01  1.28980292e-02\n",
      "   4.55387475e-01  5.29343924e-02  4.86516581e-02 -4.50012625e-03\n",
      "  -3.98660743e-02  3.57293646e-03 -1.37045983e-02 -2.65155519e-02\n",
      "  -2.19293588e-01  1.69524892e-01 -3.06793110e-01 -1.75147179e-01\n",
      "  -1.00078990e-01 -5.87906928e-01  3.28249003e-01 -3.67438004e-01\n",
      "  -2.58145998e-02  8.65035101e-02  4.55426218e-02 -5.41167855e-02\n",
      "  -6.25688792e-02  1.23679291e-01 -8.08384186e-02 -3.72374319e-01\n",
      "   2.13760599e-03  4.80371289e-02 -1.12433194e-01 -3.28383492e-01\n",
      "   4.01394722e-02  1.09048400e-01 -3.93958406e-02 -1.02289562e-01\n",
      "   2.17094695e-01  2.60814688e-02 -4.91458174e-02 -6.42088047e-02]\n",
      " [-4.08080054e+00 -1.69425942e-02  1.73964962e-02 -3.01563837e-02\n",
      "  -2.58004107e-01  1.82129301e-01 -5.74749257e-01  5.65874231e-02\n",
      "  -2.72559804e-01 -7.79964874e-03  2.88228659e-02  3.77689388e-02\n",
      "   1.71610450e-01  1.18385195e-01  7.67538946e-01  1.83818606e-01\n",
      "  -8.93809608e-02  2.22681478e-01 -3.36696900e-01  5.09372920e-02\n",
      "  -9.27033527e-02  1.56404032e-01  1.01010368e-01 -3.12918450e-02\n",
      "  -5.65567100e-02  3.38304756e-03 -2.21997242e-01 -2.30535187e-02\n",
      "  -1.72547373e-01  2.11381985e-02  5.10996381e-03 -8.57942692e-02\n",
      "   2.17735103e-02 -5.99708537e-03  2.76409873e-02  4.26886009e-02\n",
      "  -5.65665131e-02 -4.79385637e-02  1.88142356e-02  3.10906180e-02\n",
      "   1.07773340e-02  9.06257063e-03  8.91992116e-02  1.02114918e-02\n",
      "  -3.12989183e-01 -7.17543962e-02  7.57347656e-03  4.31452839e-03\n",
      "   2.45171219e-03 -1.03083553e-03  1.11401142e-02 -1.77286463e-02\n",
      "   1.61612152e-01  7.17008417e-03  9.34157223e-02  2.67363648e-01\n",
      "   3.65684740e-02  4.86463115e-01 -6.95906399e-02  1.39503911e-01\n",
      "   2.28909525e-02 -6.86948489e-02 -7.25341571e-05  5.23469769e-02\n",
      "  -2.08392887e-02 -1.44967748e-01  8.74777485e-02 -1.29297837e-02\n",
      "   1.97544764e-02 -2.58292507e-02  2.75186652e-02  9.46068002e-02\n",
      "   5.10594618e-02 -1.93535057e-01 -1.28664778e-02  1.42740867e-01\n",
      "  -2.76625243e-01 -6.15658799e-03 -8.41242469e-03 -1.96961563e-02]\n",
      " [-3.41391172e+00 -1.75311352e-02  9.05791773e-03  5.79401909e-03\n",
      "   3.89902603e-02 -2.69335310e-02 -6.37580606e-01  2.65232639e-01\n",
      "  -3.06817320e-01  1.44394045e-02 -1.93696551e-02  2.31224664e-02\n",
      "  -1.23001966e-01  9.27429972e-02 -3.19467163e-01 -5.46381101e-03\n",
      "  -1.65683525e-01  3.26287719e-01 -2.92283377e-02  8.10787559e-02\n",
      "  -2.07107094e-02  1.27651993e-01  1.20616253e-01 -1.08526356e-01\n",
      "  -9.33076498e-02 -9.88649483e-03 -1.18556639e-01 -2.06002552e-01\n",
      "  -2.30873447e-01 -1.24189631e-01  2.20736686e-02  2.05015803e-01\n",
      "  -1.42304922e-02 -4.05255973e-02  3.79066409e-02 -1.34542660e-01\n",
      "   1.41657183e-02  5.73221671e-02  1.45985949e-02 -1.03530543e-02\n",
      "  -3.75375624e-02  2.31117679e-02 -2.91106770e-02 -2.98774683e-03\n",
      "  -3.91804391e-01  4.54127606e-02 -3.03117814e-02 -4.67184120e-02\n",
      "  -1.71669240e-02 -2.71449766e-02  1.30322183e-02  4.10837342e-02\n",
      "   1.75213602e-01 -5.36434949e-02  1.57472990e-01  2.02163275e-01\n",
      "   8.40445219e-02  3.53924756e-01 -1.64879795e-01  1.63307365e-01\n",
      "  -2.66580662e-02 -1.73180548e-02 -3.60938577e-02  2.24006382e-02\n",
      "   3.39516858e-02  8.66903461e-03 -8.66390510e-03  1.32473942e-01\n",
      "  -7.04680300e-03  2.22751258e-02  3.70990854e-02  4.18874820e-03\n",
      "  -6.74420723e-02 -2.23284355e-02  5.67688667e-02 -5.32273534e-02\n",
      "  -3.26517613e-01 -4.50211462e-02 -1.17667394e-02  5.12421434e-02]\n",
      " [-3.47234229e+00  7.38343891e-03  5.01810057e-03  2.58734200e-02\n",
      "  -1.87290392e-01  3.66738584e-02 -6.99468905e-01  7.18881625e-02\n",
      "  -3.19000354e-01 -1.58627499e-02 -5.06919152e-03  7.43838339e-03\n",
      "  -5.92397909e-02  1.57874595e-01 -2.48839700e-01 -9.04029063e-02\n",
      "  -8.27148901e-02  4.21268188e-01  2.50683727e-03 -2.86932419e-02\n",
      "  -3.91625489e-02  5.50412276e-02  2.00104111e-01 -3.12433486e-02\n",
      "   1.26721840e-03 -5.17645747e-02 -1.72815555e-01 -3.43845285e-01\n",
      "  -1.83812170e-01  4.79460552e-02  2.70998788e-02  2.50006967e-01\n",
      "  -2.20586487e-01 -1.94741599e-02  3.15839635e-02  2.12409174e-01\n",
      "   7.81332378e-02 -1.09784570e-01 -7.14057665e-02 -2.68268759e-02\n",
      "  -2.29579273e-02 -1.53800721e-02 -1.18416840e-01 -1.23868075e-02\n",
      "  -3.46007155e-01  5.61164013e-02 -2.91326682e-02  1.59872578e-03\n",
      "  -4.80469904e-02  1.17367197e-02 -3.95651939e-02 -8.17403053e-03\n",
      "   9.62816999e-02 -9.59920193e-02  1.53693669e-01  9.27623924e-02\n",
      "   3.10723829e-02  2.67975733e-01 -1.81282453e-01  1.18261997e-01\n",
      "   3.02504359e-02 -5.90054906e-02 -4.43199968e-02  1.85467976e-02\n",
      "   3.35620393e-02 -2.67125656e-01  6.37914626e-02 -4.19639930e-02\n",
      "  -3.35427978e-03 -8.12864362e-02 -3.52984053e-03  1.26421161e-01\n",
      "  -3.46278155e-02 -1.13175454e-01  1.63780608e-02  7.55268715e-02\n",
      "  -3.54438979e-01  1.87368981e-03 -2.71824460e-02  9.47884901e-03]]\n"
     ]
    }
   ],
   "source": [
    "print(all_theta)"
   ]
  },
  {
   "cell_type": "code",
   "execution_count": 52,
   "metadata": {},
   "outputs": [],
   "source": [
    "def predictOneVsAllReg(all_theta, X):\n",
    "    \"\"\"\n",
    "    Devuelve un vector de predicciones para cada ejemplo en la matriz X.\n",
    "    Tenga en cuenta que X contiene los ejemplos en filas.\n",
    "    all_theta es una matriz donde la i-ésima fila es un vector theta de regresión logística entrenada para la i-ésima clase.\n",
    "    Debe establecer p en un vector de valores de 0..K-1 (por ejemplo, p = [0, 2, 0, 1]\n",
    "    predice clases 0, 2, 0, 1 para 4 ejemplos).\n",
    "\n",
    "    Parametros\n",
    "    ----------\n",
    "    all_theta : array_like\n",
    "        The trained parameters for logistic regression for each class.\n",
    "        This is a matrix of shape (K x n+1) where K is number of classes\n",
    "        and n is number of features without the bias.\n",
    "\n",
    "    X : array_like\n",
    "        Data points to predict their labels. This is a matrix of shape\n",
    "        (m x n) where m is number of data points to predict, and n is number\n",
    "        of features without the bias term. Note we add the bias term for X in\n",
    "        this function.\n",
    "\n",
    "    Devuelve\n",
    "    -------\n",
    "    p : array_like\n",
    "        The predictions for each data point in X. This is a vector of shape (m, ).\n",
    "    \"\"\"\n",
    "\n",
    "    m = X.shape[0];\n",
    "    num_labels = all_theta.shape[0]\n",
    "\n",
    "    p = np.zeros(m)\n",
    "\n",
    "    # Add ones to the X data matrix\n",
    "    X = np.concatenate([np.ones((m, 1)), X], axis=1)\n",
    "    #p = np.argmax(sigmoid(X.dot(all_theta.T)), axis = 1)\n",
    "    p = np.argmax(sigmoid(X.dot(all_theta.T)), axis=1)\n",
    "    #print(X.shape)\n",
    "    return p"
   ]
  },
  {
   "cell_type": "code",
   "execution_count": 53,
   "metadata": {},
   "outputs": [
    {
     "name": "stdout",
     "output_type": "stream",
     "text": [
      "Precision del conjuto de entrenamiento: 81.15%\n",
      "[0 0 0 ... 0 2 0]\n",
      "[0. 0. 0. ... 0. 2. 0.]\n"
     ]
    }
   ],
   "source": [
    "import sys\n",
    "#np.set_printoptions(threshold=sys.maxsize)\n",
    "\n",
    "#print(Xt_norm.shape)\n",
    "pred = predictOneVsAllReg(all_theta, Xt_norm)\n",
    "\n",
    "print('Precision del conjuto de entrenamiento: {:.2f}%'.format(np.mean(pred == ytest) * 100))\n",
    "#XPrueba = Xtest_norm[:, :].copy()\n",
    "#print(XPrueba.shape)\n",
    "#print(np.ones((1)))\n",
    "#print(XPrueba)\n",
    "#p = np.zeros(1)\n",
    "#XPrueba = np.concatenate([np.ones((8000, 1)), XPrueba], axis=1)\n",
    "#print(XPrueba.shape)\n",
    "#p = np.argmax(sigmoid(XPrueba.dot(all_theta.T)), axis = 1)\n",
    "#print(pred.shape)\n",
    "print(pred)\n",
    "\n",
    "# displayData(X[1002:1003, :])\n",
    "print(ytest[:])"
   ]
  },
  {
   "cell_type": "markdown",
   "metadata": {},
   "source": [
    "**REGRESION LOGISTICA (CLASIFICACION MULTICLASE) SIN REGULACION**"
   ]
  },
  {
   "cell_type": "code",
   "execution_count": 59,
   "metadata": {},
   "outputs": [],
   "source": [
    "def lrCostFunction(theta, X, y):\n",
    "    \"\"\"\n",
    "    Calcula el costo de usar theta como parámetro para la regresión logística regularizada y\n",
    "    el gradiente del costo w.r.t. a los parámetros.\n",
    "\n",
    "    Parametros\n",
    "    ----------\n",
    "    theta : array_like\n",
    "        Parametro theta de la regresion logistica. Vector de la forma(shape) (n, ). n es el numero de caracteristicas\n",
    "        incluida la intercepcion\n",
    "\n",
    "    X : array_like\n",
    "        Dataset con la forma(shape) (m x n). m es el numero de ejemplos, y n es el numero de\n",
    "        caracteristicas (incluida la intercepcion).\n",
    "\n",
    "    y : array_like\n",
    "        El conjunto de etiquetas. Un vector con la forma (shape) (m, ). m es el numero de ejemplos\n",
    "\n",
    "    lambda_ : float\n",
    "        Parametro de regularización.\n",
    "\n",
    "    Devuelve\n",
    "    -------\n",
    "    J : float\n",
    "        El valor calculado para la funcion de costo regularizada.\n",
    "\n",
    "    grad : array_like\n",
    "        Un vector de la forma (shape) (n, ) que es el gradiente de la\n",
    "        función de costo con respecto a theta, en los valores actuales de theta..\n",
    "    \"\"\"\n",
    "#     alpha = 0.003\n",
    "#     theta = theta.copy()\n",
    "    # Inicializa algunos valores utiles\n",
    "    m = y.size\n",
    "\n",
    "    # convierte las etiquetas a valores enteros si son boleanos\n",
    "    if y.dtype == bool:\n",
    "        y = y.astype(int)\n",
    "\n",
    "    J = 0\n",
    "    grad = np.zeros(theta.shape)\n",
    "\n",
    "    h = sigmoid(X.dot(theta.T))\n",
    "\n",
    "    #temp = theta\n",
    "    #temp[0] = 0\n",
    "\n",
    "#     J = (1 / m) * np.sum(-y.dot(np.log(h)) - (1 - y).dot(np.log(1 - h)))\n",
    "    J = (1 / m) * np.sum(-y.dot(np.log(h)) - (1 - y).dot(np.log(1 - h)))\n",
    "    grad = (1 / m) * (h - y).dot(X)\n",
    "#     theta = theta - (alpha / m) * (h - y).dot(X)\n",
    "      #grad = grad + (lambda_ / m) * temp\n",
    "\n",
    "    return J, grad\n",
    "#    return J, theta"
   ]
  },
  {
   "cell_type": "code",
   "execution_count": 62,
   "metadata": {},
   "outputs": [],
   "source": [
    "#One vs All sin regularizacion\n",
    "def oneVsAll(X, y, num_labels):\n",
    "    \"\"\"\n",
    "    Trains num_labels logistic regression classifiers and returns\n",
    "    each of these classifiers in a matrix all_theta, where the i-th\n",
    "    row of all_theta corresponds to the classifier for label i.\n",
    "\n",
    "    Parameters\n",
    "    ----------\n",
    "    X : array_like\n",
    "        The input dataset of shape (m x n). m is the number of\n",
    "        data points, and n is the number of features. Note that we\n",
    "        do not assume that the intercept term (or bias) is in X, however\n",
    "        we provide the code below to add the bias term to X.\n",
    "\n",
    "    y : array_like\n",
    "        The data labels. A vector of shape (m, ).\n",
    "\n",
    "    num_labels : int\n",
    "        Number of possible labels.\n",
    "\n",
    "    Returns\n",
    "    -------\n",
    "    all_theta : array_like\n",
    "        The trained parameters for logistic regression for each class.\n",
    "        This is a matrix of shape (K x n+1) where K is number of classes\n",
    "        (ie. `numlabels`) and n is number of features without the bias.\n",
    "    \"\"\"\n",
    "    # algunas variables utiles\n",
    "    m, n = X.shape\n",
    "\n",
    "    all_theta = np.zeros((num_labels, n + 1))\n",
    "\n",
    "    # Agrega unos a la matriz X\n",
    "    X = np.concatenate([np.ones((m, 1)), X], axis=1)\n",
    "\n",
    "    for c in np.arange(num_labels):\n",
    "        initial_theta = np.zeros(n + 1)\n",
    "        options = {'maxiter': 50}\n",
    "        res = optimize.minimize(lrCostFunction,\n",
    "                                initial_theta,\n",
    "                                (X, (y == c)),\n",
    "                                jac=True,\n",
    "                                method='CG',\n",
    "                                options=options)\n",
    "\n",
    "        all_theta[c] = res.x\n",
    "\n",
    "    return all_theta"
   ]
  },
  {
   "cell_type": "code",
   "execution_count": 63,
   "metadata": {},
   "outputs": [
    {
     "name": "stderr",
     "output_type": "stream",
     "text": [
      "C:\\Users\\kiens\\AppData\\Local\\Temp\\ipykernel_15012\\2550069342.py:49: RuntimeWarning: divide by zero encountered in log\n",
      "  J = (1 / m) * np.sum(-y.dot(np.log(h)) - (1 - y).dot(np.log(1 - h)))\n",
      "C:\\Users\\kiens\\AppData\\Local\\Temp\\ipykernel_15012\\2550069342.py:49: RuntimeWarning: divide by zero encountered in log\n",
      "  J = (1 / m) * np.sum(-y.dot(np.log(h)) - (1 - y).dot(np.log(1 - h)))\n",
      "C:\\Users\\kiens\\AppData\\Local\\Temp\\ipykernel_15012\\2550069342.py:49: RuntimeWarning: divide by zero encountered in log\n",
      "  J = (1 / m) * np.sum(-y.dot(np.log(h)) - (1 - y).dot(np.log(1 - h)))\n",
      "C:\\Users\\kiens\\AppData\\Local\\Temp\\ipykernel_15012\\2550069342.py:49: RuntimeWarning: divide by zero encountered in log\n",
      "  J = (1 / m) * np.sum(-y.dot(np.log(h)) - (1 - y).dot(np.log(1 - h)))\n",
      "C:\\Users\\kiens\\AppData\\Local\\Temp\\ipykernel_15012\\2550069342.py:49: RuntimeWarning: divide by zero encountered in log\n",
      "  J = (1 / m) * np.sum(-y.dot(np.log(h)) - (1 - y).dot(np.log(1 - h)))\n",
      "C:\\Users\\kiens\\AppData\\Local\\Temp\\ipykernel_15012\\2550069342.py:49: RuntimeWarning: divide by zero encountered in log\n",
      "  J = (1 / m) * np.sum(-y.dot(np.log(h)) - (1 - y).dot(np.log(1 - h)))\n"
     ]
    },
    {
     "name": "stdout",
     "output_type": "stream",
     "text": [
      "(4, 80)\n"
     ]
    }
   ],
   "source": [
    "all_theta = oneVsAll(X, ytrain, num_labels)\n",
    "print(all_theta.shape)"
   ]
  },
  {
   "cell_type": "code",
   "execution_count": 64,
   "metadata": {},
   "outputs": [
    {
     "name": "stdout",
     "output_type": "stream",
     "text": [
      "[[ 2.16578465e+00  1.96490141e-02 -1.30207675e-02  3.89641843e-04\n",
      "   1.61738475e-01  2.14359647e-02  4.11890190e-01 -3.96716518e-01\n",
      "   4.53589721e-01 -1.50108689e-02 -1.18640062e-02 -3.73592945e-02\n",
      "  -3.89728967e-02 -3.81459563e-01 -3.96570780e-01 -2.95339107e-01\n",
      "   2.52253568e-01 -6.95967239e-01  1.55239906e-01 -1.15178308e-01\n",
      "   8.03155072e-02 -2.79435184e-01 -2.28476137e-01  1.32452134e-01\n",
      "   7.38238941e-02  4.12410782e-02  4.08939998e-01  5.10112499e-01\n",
      "   1.61769774e-01 -8.66608158e-02 -3.27628399e-02 -2.54292737e-01\n",
      "  -4.01547980e-02  2.53643668e-02 -4.63006603e-02 -6.51119125e-01\n",
      "   2.10150262e-02 -3.61612996e-02  1.80848495e-02 -1.14211070e-02\n",
      "   5.31925925e-03 -1.73348355e-02 -1.14969727e-01  6.82689596e-03\n",
      "   4.40161320e-01  5.18175340e-02  4.79356828e-02  6.11819652e-03\n",
      "  -3.58182589e-02  5.26867162e-03 -1.12581339e-02 -2.31514976e-02\n",
      "  -2.29415171e-01  1.65406034e-01 -2.57010594e-01 -1.85043067e-01\n",
      "  -9.76792040e-02 -6.02940885e-01  3.33710862e-01 -3.66248259e-01\n",
      "  -2.62127290e-02  8.81754236e-02  4.46093984e-02 -5.44660026e-02\n",
      "  -6.45481336e-02  1.32811402e-01 -7.97959969e-02 -3.29406453e-01\n",
      "   2.39515733e-03  4.66471123e-02 -1.11537469e-01 -3.21546742e-01\n",
      "   4.07757877e-02  1.04680924e-01 -4.21534939e-02 -1.05896025e-01\n",
      "   2.13236756e-01  2.66933306e-02 -4.50402724e-02 -6.67923516e-02]\n",
      " [-4.08101718e+00 -1.69518164e-02  1.74219936e-02 -3.01488596e-02\n",
      "  -2.57759763e-01  1.81980249e-01 -5.74442428e-01  5.66810291e-02\n",
      "  -2.72490969e-01 -7.68466782e-03  2.89304991e-02  3.77673577e-02\n",
      "   1.71681659e-01  1.18368998e-01  7.67557326e-01  1.83822765e-01\n",
      "  -8.99855436e-02  2.23660626e-01 -3.37329838e-01  5.10275482e-02\n",
      "  -9.26204019e-02  1.56294735e-01  1.01074887e-01 -3.12517354e-02\n",
      "  -5.65450540e-02  3.39285446e-03 -2.23319449e-01 -2.39968080e-02\n",
      "  -1.72818510e-01  2.18196337e-02  5.15974292e-03 -8.59820174e-02\n",
      "   2.16381510e-02 -6.00114669e-03  2.76643924e-02  4.28714646e-02\n",
      "  -5.65965282e-02 -4.81171431e-02  1.87009539e-02  3.10899835e-02\n",
      "   1.07145230e-02  9.03913494e-03  8.92877389e-02  1.01487061e-02\n",
      "  -3.13190984e-01 -7.17347855e-02  7.54705215e-03  4.48019009e-03\n",
      "   2.47971482e-03 -1.02897871e-03  1.11610388e-02 -1.77030671e-02\n",
      "   1.61391246e-01  7.19382245e-03  9.43569284e-02  2.67820380e-01\n",
      "   3.65613507e-02  4.87423427e-01 -6.91731043e-02  1.39541703e-01\n",
      "   2.28831410e-02 -6.86951653e-02 -6.59609294e-05  5.23503202e-02\n",
      "  -2.08422163e-02 -1.45612509e-01  8.75176341e-02 -1.29242134e-02\n",
      "   1.97643640e-02 -2.58209403e-02  2.75591244e-02  9.52100779e-02\n",
      "   5.10869851e-02 -1.94478641e-01 -1.28162140e-02  1.42818039e-01\n",
      "  -2.76949714e-01 -6.15400151e-03 -8.42594237e-03 -1.95958586e-02]\n",
      " [-3.41354566e+00 -1.75506770e-02  9.05404538e-03  5.84278219e-03\n",
      "   3.90832062e-02 -2.67351735e-02 -6.37861769e-01  2.65278090e-01\n",
      "  -3.06072490e-01  1.43460312e-02 -1.93136839e-02  2.31426870e-02\n",
      "  -1.23067400e-01  9.26234493e-02 -3.19725249e-01 -5.30480190e-03\n",
      "  -1.65446864e-01  3.25641957e-01 -2.94209439e-02  8.10959371e-02\n",
      "  -2.06692066e-02  1.27640407e-01  1.20601682e-01 -1.08583370e-01\n",
      "  -9.25873413e-02 -9.80134951e-03 -1.18387224e-01 -2.05639765e-01\n",
      "  -2.30956459e-01 -1.24163803e-01  2.19892398e-02  2.04572171e-01\n",
      "  -1.41297637e-02 -4.05785786e-02  3.79066764e-02 -1.34314395e-01\n",
      "   1.42894571e-02  5.73304281e-02  1.45738248e-02 -1.03641671e-02\n",
      "  -3.75738758e-02  2.31156509e-02 -2.89691319e-02 -2.93440647e-03\n",
      "  -3.91911710e-01  4.52635615e-02 -3.01568832e-02 -4.67487308e-02\n",
      "  -1.71095112e-02 -2.71057073e-02  1.30073948e-02  4.10328794e-02\n",
      "   1.75003468e-01 -5.36258141e-02  1.57169289e-01  2.01886641e-01\n",
      "   8.40204089e-02  3.53657939e-01 -1.65118944e-01  1.63358409e-01\n",
      "  -2.66387391e-02 -1.73269698e-02 -3.61942563e-02  2.23903347e-02\n",
      "   3.39786813e-02  8.62126530e-03 -8.59712615e-03  1.32289599e-01\n",
      "  -7.14677992e-03  2.22669541e-02  3.71478990e-02  4.25117374e-03\n",
      "  -6.70137009e-02 -2.23831870e-02  5.65535581e-02 -5.33684717e-02\n",
      "  -3.26678213e-01 -4.49085861e-02 -1.19488076e-02  5.12266192e-02]\n",
      " [-3.44734852e+00  7.41093878e-03  9.27126983e-03  2.58249750e-02\n",
      "  -1.82046687e-01  3.02893104e-02 -6.68193504e-01  7.44068588e-02\n",
      "  -3.16293555e-01 -1.67997714e-02 -5.77017576e-03  7.39529120e-03\n",
      "  -5.71827633e-02  1.52798210e-01 -2.47429519e-01 -8.72347996e-02\n",
      "  -7.28237726e-02  3.41248810e-01  9.09933920e-03 -2.56976891e-02\n",
      "  -3.84513542e-02  5.16280208e-02  1.98216213e-01 -3.23897747e-02\n",
      "   2.91673111e-03 -5.03473108e-02 -1.33106479e-01 -2.58406028e-01\n",
      "  -1.80507209e-01  3.18983791e-02  2.69928194e-02  2.42730823e-01\n",
      "  -1.90702642e-01 -1.87961836e-02  3.11300976e-02  1.64542172e-01\n",
      "   7.69843447e-02 -9.08333620e-02 -5.44256684e-02 -2.69836580e-02\n",
      "  -2.42988765e-02 -1.56534419e-02 -1.18835406e-01 -1.22291131e-02\n",
      "  -3.42326141e-01  5.40898864e-02 -3.43341560e-02  7.69448942e-04\n",
      "  -4.67812192e-02  1.08968728e-02 -4.13854113e-02 -7.94842881e-03\n",
      "   9.61291688e-02 -9.16584087e-02  1.24567861e-01  9.62676749e-02\n",
      "   3.09124211e-02  2.66355507e-01 -1.81187030e-01  1.16766890e-01\n",
      "   3.12705156e-02 -5.87352909e-02 -4.45494084e-02  1.85985998e-02\n",
      "   3.22023163e-02 -2.35898193e-01  5.97109404e-02 -3.82317327e-02\n",
      "  -3.41148488e-03 -8.27226991e-02 -2.75734505e-03  1.14998877e-01\n",
      "  -3.26281170e-02 -1.03203118e-01  2.01836139e-02  7.86054723e-02\n",
      "  -3.60997842e-01  2.53185713e-03 -2.37946989e-02  8.63778571e-03]]\n"
     ]
    }
   ],
   "source": [
    "print(all_theta)"
   ]
  },
  {
   "cell_type": "code",
   "execution_count": 65,
   "metadata": {},
   "outputs": [],
   "source": [
    "def predictOneVsAll(all_theta, X):\n",
    "    \"\"\"\n",
    "    Devuelve un vector de predicciones para cada ejemplo en la matriz X.\n",
    "    Tenga en cuenta que X contiene los ejemplos en filas.\n",
    "    all_theta es una matriz donde la i-ésima fila es un vector theta de regresión logística entrenada para la i-ésima clase.\n",
    "    Debe establecer p en un vector de valores de 0..K-1 (por ejemplo, p = [0, 2, 0, 1]\n",
    "    predice clases 0, 2, 0, 1 para 4 ejemplos).\n",
    "\n",
    "    Parametros\n",
    "    ----------\n",
    "    all_theta : array_like\n",
    "        The trained parameters for logistic regression for each class.\n",
    "        This is a matrix of shape (K x n+1) where K is number of classes\n",
    "        and n is number of features without the bias.\n",
    "\n",
    "    X : array_like\n",
    "        Data points to predict their labels. This is a matrix of shape\n",
    "        (m x n) where m is number of data points to predict, and n is number\n",
    "        of features without the bias term. Note we add the bias term for X in\n",
    "        this function.\n",
    "\n",
    "    Devuelve\n",
    "    -------\n",
    "    p : array_like\n",
    "        The predictions for each data point in X. This is a vector of shape (m, ).\n",
    "    \"\"\"\n",
    "\n",
    "    m = X.shape[0];\n",
    "    num_labels = all_theta.shape[0]\n",
    "\n",
    "    p = np.zeros(m)\n",
    "\n",
    "    # Add ones to the X data matrix\n",
    "    X = np.concatenate([np.ones((m, 1)), X], axis=1)\n",
    "    #p = np.argmax(sigmoid(X.dot(all_theta.T)), axis = 1)\n",
    "    p = np.argmax(sigmoid(X.dot(all_theta.T)), axis=1)\n",
    "    #print(X.shape)\n",
    "    return p"
   ]
  },
  {
   "cell_type": "code",
   "execution_count": 66,
   "metadata": {},
   "outputs": [
    {
     "name": "stdout",
     "output_type": "stream",
     "text": [
      "Precision del conjuto de entrenamiento: 81.10%\n",
      "[0 0 0 ... 0 2 0]\n",
      "[0. 0. 0. ... 0. 2. 0.]\n"
     ]
    }
   ],
   "source": [
    "import sys\n",
    "#np.set_printoptions(threshold=sys.maxsize)\n",
    "\n",
    "#print(Xt_norm.shape)\n",
    "pred = predictOneVsAll(all_theta, Xt_norm)\n",
    "\n",
    "print('Precision del conjuto de entrenamiento: {:.2f}%'.format(np.mean(pred == ytest) * 100))\n",
    "#XPrueba = Xtest_norm[:, :].copy()\n",
    "#print(XPrueba.shape)\n",
    "#print(np.ones((1)))\n",
    "#print(XPrueba)\n",
    "#p = np.zeros(1)\n",
    "#XPrueba = np.concatenate([np.ones((8000, 1)), XPrueba], axis=1)\n",
    "#print(XPrueba.shape)\n",
    "#p = np.argmax(sigmoid(XPrueba.dot(all_theta.T)), axis = 1)\n",
    "#print(pred.shape)\n",
    "print(pred)\n",
    "\n",
    "# displayData(X[1002:1003, :])\n",
    "print(ytest[:])"
   ]
  }
 ],
 "metadata": {
  "kernelspec": {
   "display_name": "Python 3",
   "language": "python",
   "name": "python3"
  },
  "language_info": {
   "codemirror_mode": {
    "name": "ipython",
    "version": 3
   },
   "file_extension": ".py",
   "mimetype": "text/x-python",
   "name": "python",
   "nbconvert_exporter": "python",
   "pygments_lexer": "ipython3",
   "version": "3.12.2"
  }
 },
 "nbformat": 4,
 "nbformat_minor": 2
}

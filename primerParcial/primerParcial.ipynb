{
 "cells": [
  {
   "cell_type": "markdown",
   "metadata": {},
   "source": [
    "**PRIMER PARCIAL**"
   ]
  },
  {
   "cell_type": "markdown",
   "metadata": {},
   "source": [
    "MODELO 1"
   ]
  },
  {
   "cell_type": "markdown",
   "metadata": {},
   "source": [
    "El dataset cuenta con mas de 50k de ejemplos y con 10 caracteristicas (quilates, corte, color, claridad, profundidad, tabla, precio, x, y, z).    \n",
    "\n",
    " Acerca de la moneda de la columna de precio: es Precio ($)\n",
    "\n",
    "Y sobre las columnas x, y y z, son medidas de diamantes como ((x: largo en mm, y: ancho en mm,z: profundidad en mm))"
   ]
  },
  {
   "cell_type": "markdown",
   "metadata": {},
   "source": [
    "El dataset se va a adecuar para el modelo de clasifiacion One vs All por prioridad ya que se tiene el corte con clasificaciones de corte como :\n",
    "\n",
    "Fair=0\n",
    "\n",
    "Good=1\n",
    "\n",
    "Very good=4\n",
    "\n",
    "Premium=3\n",
    "\n",
    "Ideal=2\n",
    "\n",
    "\n",
    "\n",
    "\n"
   ]
  },
  {
   "cell_type": "markdown",
   "metadata": {},
   "source": [
    "*PREPROCESAMIENTO DE DATOS CON PANDAS*"
   ]
  },
  {
   "cell_type": "markdown",
   "metadata": {},
   "source": [
    "Importando librerias"
   ]
  },
  {
   "cell_type": "code",
   "execution_count": 2,
   "metadata": {},
   "outputs": [],
   "source": [
    "import pandas as pd\n",
    "import sklearn as skl\n",
    "\n",
    "# Modulo de optimizacion en scipy\n",
    "from scipy import optimize\n",
    "import sys\n",
    "\n",
    "# utilizado para manejos de directorios y rutas\n",
    "import os\n",
    "\n",
    "# Computacion vectorial y cientifica para python\n",
    "import numpy as np\n",
    "\n",
    "# Librerias para graficación (trazado de gráficos)\n",
    "from matplotlib import pyplot\n",
    "from mpl_toolkits.mplot3d import Axes3D  # Necesario para graficar superficies 3D\n",
    "\n",
    "# llama a matplotlib a embeber graficas dentro de los cuadernillos\n",
    "%matplotlib inline"
   ]
  },
  {
   "cell_type": "code",
   "execution_count": 2,
   "metadata": {},
   "outputs": [
    {
     "name": "stdout",
     "output_type": "stream",
     "text": [
      "       Unnamed: 0  carat        cut color clarity  depth  table  price     x  \\\n",
      "0               1   0.23      Ideal     E     SI2   61.5   55.0    326  3.95   \n",
      "1               2   0.21    Premium     E     SI1   59.8   61.0    326  3.89   \n",
      "2               3   0.23       Good     E     VS1   56.9   65.0    327  4.05   \n",
      "3               4   0.29    Premium     I     VS2   62.4   58.0    334  4.20   \n",
      "4               5   0.31       Good     J     SI2   63.3   58.0    335  4.34   \n",
      "...           ...    ...        ...   ...     ...    ...    ...    ...   ...   \n",
      "53938       53939   0.86    Premium     H     SI2   61.0   58.0   2757  6.15   \n",
      "53939       53940   0.75      Ideal     D     SI2   62.2   55.0   2757  5.83   \n",
      "53940       53941   0.71    Premium     E     SI1   60.5   55.0   2756  5.79   \n",
      "53941       53942   0.71    Premium     F     SI1   59.8   62.0   2756  5.74   \n",
      "53942       53943   0.70  Very Good     E     VS2   60.5   59.0   2757  5.71   \n",
      "\n",
      "          y     z  \n",
      "0      3.98  2.43  \n",
      "1      3.84  2.31  \n",
      "2      4.07  2.31  \n",
      "3      4.23  2.63  \n",
      "4      4.35  2.75  \n",
      "...     ...   ...  \n",
      "53938  6.12  3.74  \n",
      "53939  5.87  3.64  \n",
      "53940  5.74  3.49  \n",
      "53941  5.73  3.43  \n",
      "53942  5.76  3.47  \n",
      "\n",
      "[53943 rows x 11 columns]\n"
     ]
    }
   ],
   "source": [
    "url = \"C:/Users/kiens/OneDrive/Escritorio/1-24/SIS420/IA-SIS420/primerParcial/Modelo1/Dataset/Diamonds Prices2022.csv\"\n",
    "dataframe = pd.read_csv(url)\n",
    "print(dataframe)"
   ]
  },
  {
   "cell_type": "markdown",
   "metadata": {},
   "source": [
    "Pasando los atributos de texto a numero"
   ]
  },
  {
   "cell_type": "code",
   "execution_count": 3,
   "metadata": {},
   "outputs": [
    {
     "name": "stdout",
     "output_type": "stream",
     "text": [
      "         cut\n",
      "0      Ideal\n",
      "1    Premium\n",
      "2       Good\n",
      "3    Premium\n",
      "4       Good\n",
      "5  Very Good\n",
      "6  Very Good\n",
      "7  Very Good\n",
      "8       Fair\n",
      "9  Very Good\n",
      "  color\n",
      "0     E\n",
      "1     E\n",
      "2     E\n",
      "3     I\n",
      "4     J\n",
      "5     J\n",
      "6     I\n",
      "7     H\n",
      "8     E\n",
      "9     H\n",
      "  clarity\n",
      "0     SI2\n",
      "1     SI1\n",
      "2     VS1\n",
      "3     VS2\n",
      "4     SI2\n",
      "5    VVS2\n",
      "6    VVS1\n",
      "7     SI1\n",
      "8     VS2\n",
      "9     VS1\n"
     ]
    }
   ],
   "source": [
    "from sklearn.preprocessing import OrdinalEncoder\n",
    "cut_cat = dataframe[['cut']]\n",
    "color_cat = dataframe[['color']]\n",
    "clarity_cat = dataframe[['clarity']]\n",
    "print(cut_cat.head(10))\n",
    "print(color_cat.head(10))\n",
    "print(clarity_cat.head(10))"
   ]
  },
  {
   "cell_type": "code",
   "execution_count": 4,
   "metadata": {},
   "outputs": [
    {
     "name": "stdout",
     "output_type": "stream",
     "text": [
      "[[2.]\n",
      " [3.]\n",
      " [1.]\n",
      " [3.]\n",
      " [1.]\n",
      " [4.]\n",
      " [4.]\n",
      " [4.]\n",
      " [0.]\n",
      " [4.]]\n",
      "[[3.]\n",
      " [2.]\n",
      " [4.]\n",
      " [5.]\n",
      " [3.]\n",
      " [7.]\n",
      " [6.]\n",
      " [2.]\n",
      " [5.]\n",
      " [4.]]\n",
      "[[1.]\n",
      " [1.]\n",
      " [1.]\n",
      " [5.]\n",
      " [6.]\n",
      " [6.]\n",
      " [5.]\n",
      " [4.]\n",
      " [1.]\n",
      " [4.]]\n"
     ]
    }
   ],
   "source": [
    "\n",
    "#Caracteristica Corte columna el cual sera nuestra Y \n",
    "ordinal_encoder = OrdinalEncoder()\n",
    "cut_cat_encoded = ordinal_encoder.fit_transform(cut_cat)\n",
    "print(cut_cat_encoded[:10])\n",
    "dataframe['cut'] = cut_cat_encoded\n",
    "#Caracteristica claridad\n",
    "clarity_cat_encoded = ordinal_encoder.fit_transform(clarity_cat)\n",
    "dataframe['clarity'] = clarity_cat_encoded\n",
    "print(clarity_cat_encoded[:10])\n",
    "#Caracteristica color\n",
    "color_cat_encoded = ordinal_encoder.fit_transform(color_cat)\n",
    "dataframe['color'] = color_cat_encoded\n",
    "print(color_cat_encoded[:10])\n"
   ]
  },
  {
   "cell_type": "code",
   "execution_count": 5,
   "metadata": {},
   "outputs": [
    {
     "name": "stdout",
     "output_type": "stream",
     "text": [
      "         Unnamed: 0         carat           cut         color       clarity  \\\n",
      "count  53943.000000  53943.000000  53943.000000  53943.000000  53943.000000   \n",
      "mean   26972.000000      0.797935      2.553047      2.594127      3.835104   \n",
      "std    15572.147122      0.473999      1.027702      1.701087      1.724587   \n",
      "min        1.000000      0.200000      0.000000      0.000000      0.000000   \n",
      "25%    13486.500000      0.400000      2.000000      1.000000      2.000000   \n",
      "50%    26972.000000      0.700000      2.000000      3.000000      4.000000   \n",
      "75%    40457.500000      1.040000      3.000000      4.000000      5.000000   \n",
      "max    53943.000000      5.010000      4.000000      6.000000      7.000000   \n",
      "\n",
      "              depth         table         price             x             y  \\\n",
      "count  53943.000000  53943.000000  53943.000000  53943.000000  53943.000000   \n",
      "mean      61.749322     57.457251   3932.734294      5.731158      5.734526   \n",
      "std        1.432626      2.234549   3989.338447      1.121730      1.142103   \n",
      "min       43.000000     43.000000    326.000000      0.000000      0.000000   \n",
      "25%       61.000000     56.000000    950.000000      4.710000      4.720000   \n",
      "50%       61.800000     57.000000   2401.000000      5.700000      5.710000   \n",
      "75%       62.500000     59.000000   5324.000000      6.540000      6.540000   \n",
      "max       79.000000     95.000000  18823.000000     10.740000     58.900000   \n",
      "\n",
      "                  z  \n",
      "count  53943.000000  \n",
      "mean       3.538730  \n",
      "std        0.705679  \n",
      "min        0.000000  \n",
      "25%        2.910000  \n",
      "50%        3.530000  \n",
      "75%        4.040000  \n",
      "max       31.800000  \n"
     ]
    }
   ],
   "source": [
    "print(dataframe.describe())"
   ]
  },
  {
   "cell_type": "markdown",
   "metadata": {},
   "source": [
    "Separar las caracteristicas de la etiqueta que usaremos para el entrenamiento"
   ]
  },
  {
   "cell_type": "code",
   "execution_count": 6,
   "metadata": {},
   "outputs": [],
   "source": [
    "dataset = dataframe.drop(\"cut\", axis=1)\n",
    "label = dataframe[\"cut\"].copy()"
   ]
  },
  {
   "cell_type": "code",
   "execution_count": 7,
   "metadata": {},
   "outputs": [
    {
     "name": "stdout",
     "output_type": "stream",
     "text": [
      "       Unnamed: 0  carat  color  clarity  depth  table  price     x     y  \\\n",
      "0               1   0.23    1.0      3.0   61.5   55.0    326  3.95  3.98   \n",
      "1               2   0.21    1.0      2.0   59.8   61.0    326  3.89  3.84   \n",
      "2               3   0.23    1.0      4.0   56.9   65.0    327  4.05  4.07   \n",
      "3               4   0.29    5.0      5.0   62.4   58.0    334  4.20  4.23   \n",
      "4               5   0.31    6.0      3.0   63.3   58.0    335  4.34  4.35   \n",
      "...           ...    ...    ...      ...    ...    ...    ...   ...   ...   \n",
      "53938       53939   0.86    4.0      3.0   61.0   58.0   2757  6.15  6.12   \n",
      "53939       53940   0.75    0.0      3.0   62.2   55.0   2757  5.83  5.87   \n",
      "53940       53941   0.71    1.0      2.0   60.5   55.0   2756  5.79  5.74   \n",
      "53941       53942   0.71    2.0      2.0   59.8   62.0   2756  5.74  5.73   \n",
      "53942       53943   0.70    1.0      5.0   60.5   59.0   2757  5.71  5.76   \n",
      "\n",
      "          z  \n",
      "0      2.43  \n",
      "1      2.31  \n",
      "2      2.31  \n",
      "3      2.63  \n",
      "4      2.75  \n",
      "...     ...  \n",
      "53938  3.74  \n",
      "53939  3.64  \n",
      "53940  3.49  \n",
      "53941  3.43  \n",
      "53942  3.47  \n",
      "\n",
      "[53943 rows x 10 columns]\n"
     ]
    }
   ],
   "source": [
    "print(dataset)"
   ]
  },
  {
   "cell_type": "code",
   "execution_count": 8,
   "metadata": {},
   "outputs": [
    {
     "name": "stdout",
     "output_type": "stream",
     "text": [
      "0        2.0\n",
      "1        3.0\n",
      "2        1.0\n",
      "3        3.0\n",
      "4        1.0\n",
      "        ... \n",
      "53938    3.0\n",
      "53939    2.0\n",
      "53940    3.0\n",
      "53941    3.0\n",
      "53942    4.0\n",
      "Name: cut, Length: 53943, dtype: float64\n"
     ]
    }
   ],
   "source": [
    "print(label)"
   ]
  },
  {
   "cell_type": "code",
   "execution_count": 9,
   "metadata": {},
   "outputs": [],
   "source": [
    "#dataset.to_csv('C:/Users/kiens/OneDrive/Escritorio/1-24/SIS420/IA-SIS420/primerParcial/Modelo1/Dataset/DiamondsProcesado.csv', index=False)\n",
    "#label.to_csv('C:/Users/kiens/OneDrive/Escritorio/1-24/SIS420/IA-SIS420/primerParcial/Modelo1/Dataset/Label.csv', index=False)"
   ]
  },
  {
   "cell_type": "markdown",
   "metadata": {},
   "source": [
    "**ONEVSALL**"
   ]
  },
  {
   "cell_type": "code",
   "execution_count": 10,
   "metadata": {},
   "outputs": [],
   "source": [
    "# La entrada es de 11 elemento contando con x0\n",
    "input_layer_size  = 11\n",
    "\n",
    "# 5 etiquetas\n",
    "num_labels = 5\n",
    "#Datasaet ya procesado con panda \n",
    "datax= np.loadtxt('C:/Users/kiens/OneDrive/Escritorio/1-24/SIS420/IA-SIS420/primerParcial/Modelo1/Dataset/DiamondsProcesado.csv', delimiter=',')\n",
    "datay = np.loadtxt('C:/Users/kiens/OneDrive/Escritorio/1-24/SIS420/IA-SIS420/primerParcial/Modelo1/Dataset/Label.csv')\n",
    "#Considerando el 80% para el entrenamiento\n",
    "Xtrain = datax[:43155, :]\n",
    "ytrain = datay[:43155]\n",
    "# 20% para el test\n",
    "Xtest = datax[43155:,:]\n",
    "ytest = datay[43155:]\n",
    "\n",
    "m = ytrain.size"
   ]
  },
  {
   "cell_type": "code",
   "execution_count": 7,
   "metadata": {},
   "outputs": [],
   "source": [
    "def  featureNormalize(X):\n",
    "    #X_norm = X.copy()\n",
    "    #mu = np.zeros(X.shape[1])\n",
    "    #sigma = np.zeros(X.shape[1])\n",
    "\n",
    "    mu = np.mean(X, axis = 0)\n",
    "    sigma = np.std(X, axis = 0)\n",
    "    X_norm = (X - mu) / sigma\n",
    "\n",
    "    return X_norm, mu, sigma"
   ]
  },
  {
   "cell_type": "code",
   "execution_count": 12,
   "metadata": {},
   "outputs": [],
   "source": [
    "# llama featureNormalize con los datos cargados\n",
    "X_norm, mu, sigma = featureNormalize(Xtrain)\n",
    "Xtest_norm = (Xtest - mu) / sigma"
   ]
  },
  {
   "cell_type": "code",
   "execution_count": 13,
   "metadata": {},
   "outputs": [],
   "source": [
    "# Configurar la matriz adecuadamente, y agregar una columna de unos que corresponde al termino de intercepción.\n",
    "m, n = Xtrain.shape\n",
    "\n",
    "X = X_norm\n"
   ]
  },
  {
   "cell_type": "code",
   "execution_count": 14,
   "metadata": {},
   "outputs": [],
   "source": [
    "def sigmoid(z):\n",
    "    \"\"\"\n",
    "    Calcula la sigmoide de z.\n",
    "    \"\"\"\n",
    "    return 1.0 / (1.0 + np.exp(-z))"
   ]
  },
  {
   "cell_type": "code",
   "execution_count": 15,
   "metadata": {},
   "outputs": [],
   "source": [
    "def lrCostFunctionReg(theta, X, y,lambda_):\n",
    "   \n",
    "    m = y.size\n",
    "\n",
    "    # convierte las etiquetas a valores enteros si son boleanos\n",
    "    if y.dtype == bool:\n",
    "        y = y.astype(int)\n",
    "\n",
    "    J = 0\n",
    "    grad = np.zeros(theta.shape)\n",
    "\n",
    "    h = sigmoid(X.dot(theta.T))\n",
    "\n",
    "    temp = theta\n",
    "    temp[0] = 0\n",
    "\n",
    "    #J = (1 / m) * np.sum(-y.dot(np.log(h)) - (1 - y).dot(np.log(1 - h)))\n",
    "    J = (1 / m) * np.sum(-y.dot(np.log(h)) - (1 - y).dot(np.log(1 - h))) + (lambda_ / (2 * m)) * np.sum(np.square(temp))\n",
    "\n",
    "    grad = (1 / m) * (h - y).dot(X)\n",
    "#     theta = theta - (alpha / m) * (h - y).dot(X)\n",
    "    grad = grad + (lambda_ / m) * temp\n",
    "\n",
    "    return J, grad\n",
    "#    return J, theta"
   ]
  },
  {
   "cell_type": "code",
   "execution_count": 16,
   "metadata": {},
   "outputs": [],
   "source": [
    "def oneVsAllReg(X, y, num_labels,lambda_):\n",
    "    # algunas variables utiles\n",
    "    m, n = X.shape\n",
    "\n",
    "    all_theta = np.zeros((num_labels, n + 1))\n",
    "\n",
    "    # Agrega unos a la matriz X\n",
    "    X = np.concatenate([np.ones((m, 1)), X], axis=1)\n",
    "\n",
    "    for c in np.arange(num_labels):\n",
    "        initial_theta = np.zeros(n + 1)\n",
    "        options = {'maxiter': 50}\n",
    "        res = optimize.minimize(lrCostFunctionReg,\n",
    "                                initial_theta,\n",
    "                                #(X, (y == c)),\n",
    "                                (X, (y == c), lambda_),\n",
    "                                jac=True,\n",
    "                                method='CG',\n",
    "                                options=options)\n",
    "\n",
    "        all_theta[c] = res.x\n",
    "\n",
    "    return all_theta"
   ]
  },
  {
   "cell_type": "code",
   "execution_count": 17,
   "metadata": {},
   "outputs": [
    {
     "name": "stdout",
     "output_type": "stream",
     "text": [
      "(5, 11)\n"
     ]
    },
    {
     "name": "stderr",
     "output_type": "stream",
     "text": [
      "C:\\Users\\kiens\\AppData\\Local\\Temp\\ipykernel_996\\2220326297.py:18: RuntimeWarning: divide by zero encountered in log\n",
      "  J = (1 / m) * np.sum(-y.dot(np.log(h)) - (1 - y).dot(np.log(1 - h))) + (lambda_ / (2 * m)) * np.sum(np.square(temp))\n",
      "C:\\Users\\kiens\\AppData\\Local\\Temp\\ipykernel_996\\2220326297.py:18: RuntimeWarning: divide by zero encountered in log\n",
      "  J = (1 / m) * np.sum(-y.dot(np.log(h)) - (1 - y).dot(np.log(1 - h))) + (lambda_ / (2 * m)) * np.sum(np.square(temp))\n"
     ]
    }
   ],
   "source": [
    "lambda_ =0.01\n",
    "all_theta = oneVsAllReg(X, ytrain, num_labels, lambda_)\n",
    "#all_theta = oneVsAllReg(X, ytrain, num_labels)\n",
    "print(all_theta.shape)"
   ]
  },
  {
   "cell_type": "code",
   "execution_count": 18,
   "metadata": {},
   "outputs": [
    {
     "name": "stdout",
     "output_type": "stream",
     "text": [
      "[[ -4.99165055   0.14288122   0.71796507  -0.1918019    0.09931528\n",
      "    1.40826742   0.88612539  -1.45978353   3.2683733   -3.42292562\n",
      "    0.98812129]\n",
      " [ -2.61111383  -0.08345971  -0.0581229   -0.0849542   -0.09536368\n",
      "    0.69910355   0.72955167  -0.2330689   -0.37345974   0.95119243\n",
      "   -0.36300765]\n",
      " [ -0.86424608   0.06581103  -0.9305998    0.13008797   0.05119656\n",
      "   -0.79247352  -2.19911073   0.62560532  -0.29125447  -0.08207886\n",
      "    0.5886407 ]\n",
      " [ -1.20262737   0.07010234  -0.07719002   0.07410275  -0.03930091\n",
      "   -0.25228988   0.71694972   0.12320833  10.92795664 -10.60614266\n",
      "   -0.45618128]\n",
      " [ -1.26917284  -0.18860339  -0.18453847  -0.03433938   0.055354\n",
      "    0.17354942   0.3440403    0.13394198  -0.94827446   0.78818062\n",
      "    0.12776573]]\n"
     ]
    }
   ],
   "source": [
    "print(all_theta)"
   ]
  },
  {
   "cell_type": "code",
   "execution_count": 19,
   "metadata": {},
   "outputs": [],
   "source": [
    "def predictOneVsAllReg(all_theta, X):\n",
    "    m = X.shape[0];\n",
    "    num_labels = all_theta.shape[0]\n",
    "\n",
    "    p = np.zeros(m)\n",
    "\n",
    "    # Add ones to the X data matrix\n",
    "    X = np.concatenate([np.ones((m, 1)), X], axis=1)\n",
    "    #p = np.argmax(sigmoid(X.dot(all_theta.T)), axis = 1)\n",
    "    p = np.argmax(sigmoid(X.dot(all_theta.T)), axis=1)\n",
    "    #print(X.shape)\n",
    "    return p"
   ]
  },
  {
   "cell_type": "code",
   "execution_count": 20,
   "metadata": {},
   "outputs": [
    {
     "name": "stdout",
     "output_type": "stream",
     "text": [
      "Precision del conjuto de entrenamiento: 60.88%\n",
      "[1 3 2 ... 2 3 3]\n",
      "[1. 3. 4. ... 3. 3. 4.]\n"
     ]
    }
   ],
   "source": [
    "import sys\n",
    "\n",
    "pred = predictOneVsAllReg(all_theta, Xtest_norm)\n",
    "\n",
    "print('Precision del conjuto de entrenamiento: {:.2f}%'.format(np.mean(pred == ytest) * 100))\n",
    "print(pred)\n",
    "\n",
    "print(ytest[:])\n",
    "#print(pred[10787])\n",
    "#print(ytest[10787])"
   ]
  },
  {
   "cell_type": "markdown",
   "metadata": {},
   "source": [
    "**MODELO 2**"
   ]
  },
  {
   "cell_type": "markdown",
   "metadata": {},
   "source": [
    "El dataset cuenta con mas de 91k ejemplos y con 84 características que son datos medicos de un paciente que definen varios factores.\n",
    "\n",
    "En base a estos factores se va a predicir si el paciente sobrevive o no, en el cual se usara el modelo de clasificacion(0,1)"
   ]
  },
  {
   "cell_type": "markdown",
   "metadata": {},
   "source": [
    "*PREPROCESAMIENTO DE DATOS CON PANDAS*"
   ]
  },
  {
   "cell_type": "code",
   "execution_count": 86,
   "metadata": {},
   "outputs": [
    {
     "name": "stdout",
     "output_type": "stream",
     "text": [
      "       encounter_id  patient_id  hospital_id   age        bmi  \\\n",
      "0             66154       25312          118  68.0  22.730000   \n",
      "1            114252       59342           81  77.0  27.420000   \n",
      "2            119783       50777          118  25.0  31.950000   \n",
      "3             79267       46918          118  81.0  22.640000   \n",
      "4             92056       34377           33  19.0        NaN   \n",
      "...             ...         ...          ...   ...        ...   \n",
      "91708         91592       78108           30  75.0  23.060250   \n",
      "91709         66119       13486          121  56.0  47.179671   \n",
      "91710          8981       58179          195  48.0  27.236914   \n",
      "91711         33776      120598           66   NaN  23.297481   \n",
      "91712          1671       53612          104  82.0  22.031250   \n",
      "\n",
      "       elective_surgery  ethnicity gender  height           icu_admit_source  \\\n",
      "0                     0  Caucasian      M   180.3                      Floor   \n",
      "1                     0  Caucasian      F   160.0                      Floor   \n",
      "2                     0  Caucasian      F   172.7       Accident & Emergency   \n",
      "3                     1  Caucasian      F   165.1  Operating Room / Recovery   \n",
      "4                     0  Caucasian      M   188.0       Accident & Emergency   \n",
      "...                 ...        ...    ...     ...                        ...   \n",
      "91708                 0  Caucasian      M   177.8                      Floor   \n",
      "91709                 0  Caucasian      F   183.0                      Floor   \n",
      "91710                 0  Caucasian      M   170.2       Accident & Emergency   \n",
      "91711                 0  Caucasian      F   154.9       Accident & Emergency   \n",
      "91712                 1  Caucasian      F   160.0  Operating Room / Recovery   \n",
      "\n",
      "       ...  diabetes_mellitus hepatic_failure immunosuppression  leukemia  \\\n",
      "0      ...                1.0             0.0               0.0       0.0   \n",
      "1      ...                1.0             0.0               0.0       0.0   \n",
      "2      ...                0.0             0.0               0.0       0.0   \n",
      "3      ...                0.0             0.0               0.0       0.0   \n",
      "4      ...                0.0             0.0               0.0       0.0   \n",
      "...    ...                ...             ...               ...       ...   \n",
      "91708  ...                1.0             0.0               0.0       0.0   \n",
      "91709  ...                0.0             0.0               0.0       0.0   \n",
      "91710  ...                1.0             0.0               0.0       0.0   \n",
      "91711  ...                0.0             0.0               0.0       0.0   \n",
      "91712  ...                0.0             0.0               0.0       0.0   \n",
      "\n",
      "       lymphoma  solid_tumor_with_metastasis  apache_3j_bodysystem  \\\n",
      "0           0.0                          0.0                Sepsis   \n",
      "1           0.0                          0.0           Respiratory   \n",
      "2           0.0                          0.0             Metabolic   \n",
      "3           0.0                          0.0        Cardiovascular   \n",
      "4           0.0                          0.0                Trauma   \n",
      "...         ...                          ...                   ...   \n",
      "91708       0.0                          1.0                Sepsis   \n",
      "91709       0.0                          0.0                Sepsis   \n",
      "91710       0.0                          0.0             Metabolic   \n",
      "91711       0.0                          0.0           Respiratory   \n",
      "91712       0.0                          0.0      Gastrointestinal   \n",
      "\n",
      "       apache_2_bodysystem  Unnamed: 83  hospital_death  \n",
      "0           Cardiovascular          NaN               0  \n",
      "1              Respiratory          NaN               0  \n",
      "2                Metabolic          NaN               0  \n",
      "3           Cardiovascular          NaN               0  \n",
      "4                   Trauma          NaN               0  \n",
      "...                    ...          ...             ...  \n",
      "91708       Cardiovascular          NaN               0  \n",
      "91709       Cardiovascular          NaN               0  \n",
      "91710            Metabolic          NaN               0  \n",
      "91711          Respiratory          NaN               0  \n",
      "91712     Gastrointestinal          NaN               0  \n",
      "\n",
      "[91713 rows x 85 columns]\n"
     ]
    }
   ],
   "source": [
    "url = \"C:/Users/kiens/OneDrive/Escritorio/1-24/SIS420/IA-SIS420/primerParcial/Modelo2/Dataset/Dataset.csv\"\n",
    "dataframe2 = pd.read_csv(url)\n",
    "print(dataframe2)"
   ]
  },
  {
   "cell_type": "code",
   "execution_count": 87,
   "metadata": {},
   "outputs": [
    {
     "name": "stdout",
     "output_type": "stream",
     "text": [
      "        encounter_id     patient_id   hospital_id           age           bmi  \\\n",
      "count   91713.000000   91713.000000  91713.000000  87485.000000  88284.000000   \n",
      "mean    65606.079280   65537.131464    105.669262     62.309516     29.185818   \n",
      "std     37795.088538   37811.252183     62.854406     16.775119      8.275142   \n",
      "min         1.000000       1.000000      2.000000     16.000000     14.844926   \n",
      "25%     32852.000000   32830.000000     47.000000     52.000000     23.641975   \n",
      "50%     65665.000000   65413.000000    109.000000     65.000000     27.654655   \n",
      "75%     98342.000000   98298.000000    161.000000     75.000000     32.930206   \n",
      "max    131051.000000  131051.000000    204.000000     89.000000     67.814990   \n",
      "\n",
      "       elective_surgery        height        icu_id  pre_icu_los_days  \\\n",
      "count      91713.000000  90379.000000  91713.000000      91713.000000   \n",
      "mean           0.183736    169.641588    508.357692          0.835766   \n",
      "std            0.387271     10.795378    228.989661          2.487756   \n",
      "min            0.000000    137.200000     82.000000        -24.947222   \n",
      "25%            0.000000    162.500000    369.000000          0.035417   \n",
      "50%            0.000000    170.100000    504.000000          0.138889   \n",
      "75%            0.000000    177.800000    679.000000          0.409028   \n",
      "max            1.000000    195.590000    927.000000        159.090972   \n",
      "\n",
      "             weight  ...          aids     cirrhosis  diabetes_mellitus  \\\n",
      "count  88993.000000  ...  90998.000000  90998.000000       90998.000000   \n",
      "mean      84.028340  ...      0.000857      0.015693           0.225192   \n",
      "std       25.011497  ...      0.029265      0.124284           0.417711   \n",
      "min       38.600000  ...      0.000000      0.000000           0.000000   \n",
      "25%       66.800000  ...      0.000000      0.000000           0.000000   \n",
      "50%       80.300000  ...      0.000000      0.000000           0.000000   \n",
      "75%       97.100000  ...      0.000000      0.000000           0.000000   \n",
      "max      186.000000  ...      1.000000      1.000000           1.000000   \n",
      "\n",
      "       hepatic_failure  immunosuppression      leukemia      lymphoma  \\\n",
      "count     90998.000000       90998.000000  90998.000000  90998.000000   \n",
      "mean          0.012989           0.026165      0.007066      0.004132   \n",
      "std           0.113229           0.159628      0.083763      0.064148   \n",
      "min           0.000000           0.000000      0.000000      0.000000   \n",
      "25%           0.000000           0.000000      0.000000      0.000000   \n",
      "50%           0.000000           0.000000      0.000000      0.000000   \n",
      "75%           0.000000           0.000000      0.000000      0.000000   \n",
      "max           1.000000           1.000000      1.000000      1.000000   \n",
      "\n",
      "       solid_tumor_with_metastasis  Unnamed: 83  hospital_death  \n",
      "count                 90998.000000          0.0    91713.000000  \n",
      "mean                      0.020638          NaN        0.086302  \n",
      "std                       0.142169          NaN        0.280811  \n",
      "min                       0.000000          NaN        0.000000  \n",
      "25%                       0.000000          NaN        0.000000  \n",
      "50%                       0.000000          NaN        0.000000  \n",
      "75%                       0.000000          NaN        0.000000  \n",
      "max                       1.000000          NaN        1.000000  \n",
      "\n",
      "[8 rows x 78 columns]\n"
     ]
    }
   ],
   "source": [
    "print(dataframe2.describe())\n",
    "\n",
    "#print(dataframe2.info())"
   ]
  },
  {
   "cell_type": "markdown",
   "metadata": {},
   "source": [
    "Eliminar caracteristicas con valores nulos"
   ]
  },
  {
   "cell_type": "code",
   "execution_count": 88,
   "metadata": {},
   "outputs": [],
   "source": [
    "#Las columnas que son numericos\n",
    "dataframe_ = dataframe2.select_dtypes(include='number')"
   ]
  },
  {
   "cell_type": "code",
   "execution_count": 89,
   "metadata": {},
   "outputs": [
    {
     "name": "stdout",
     "output_type": "stream",
     "text": [
      "       encounter_id  patient_id  hospital_id        age        bmi  \\\n",
      "0             66154       25312          118  68.000000  22.730000   \n",
      "1            114252       59342           81  77.000000  27.420000   \n",
      "2            119783       50777          118  25.000000  31.950000   \n",
      "3             79267       46918          118  81.000000  22.640000   \n",
      "4             92056       34377           33  19.000000  29.185818   \n",
      "...             ...         ...          ...        ...        ...   \n",
      "91708         91592       78108           30  75.000000  23.060250   \n",
      "91709         66119       13486          121  56.000000  47.179671   \n",
      "91710          8981       58179          195  48.000000  27.236914   \n",
      "91711         33776      120598           66  62.309516  23.297481   \n",
      "91712          1671       53612          104  82.000000  22.031250   \n",
      "\n",
      "       elective_surgery  height  icu_id  pre_icu_los_days     weight  ...  \\\n",
      "0                     0   180.3      92          0.541667   73.90000  ...   \n",
      "1                     0   160.0      90          0.927778   70.20000  ...   \n",
      "2                     0   172.7      93          0.000694   95.30000  ...   \n",
      "3                     1   165.1      92          0.000694   61.70000  ...   \n",
      "4                     0   188.0      91          0.073611   84.02834  ...   \n",
      "...                 ...     ...     ...               ...        ...  ...   \n",
      "91708                 0   177.8     927          0.298611   72.90000  ...   \n",
      "91709                 0   183.0     925          0.120139  158.00000  ...   \n",
      "91710                 0   170.2     908          0.046528   78.90000  ...   \n",
      "91711                 0   154.9     922          0.081944   55.90000  ...   \n",
      "91712                 1   160.0     926          0.018056   56.40000  ...   \n",
      "\n",
      "       aids  cirrhosis  diabetes_mellitus  hepatic_failure  immunosuppression  \\\n",
      "0       0.0        0.0                1.0              0.0                0.0   \n",
      "1       0.0        0.0                1.0              0.0                0.0   \n",
      "2       0.0        0.0                0.0              0.0                0.0   \n",
      "3       0.0        0.0                0.0              0.0                0.0   \n",
      "4       0.0        0.0                0.0              0.0                0.0   \n",
      "...     ...        ...                ...              ...                ...   \n",
      "91708   0.0        0.0                1.0              0.0                0.0   \n",
      "91709   0.0        0.0                0.0              0.0                0.0   \n",
      "91710   0.0        0.0                1.0              0.0                0.0   \n",
      "91711   0.0        0.0                0.0              0.0                0.0   \n",
      "91712   0.0        0.0                0.0              0.0                0.0   \n",
      "\n",
      "       leukemia  lymphoma  solid_tumor_with_metastasis  Unnamed: 83  \\\n",
      "0           0.0       0.0                          0.0          NaN   \n",
      "1           0.0       0.0                          0.0          NaN   \n",
      "2           0.0       0.0                          0.0          NaN   \n",
      "3           0.0       0.0                          0.0          NaN   \n",
      "4           0.0       0.0                          0.0          NaN   \n",
      "...         ...       ...                          ...          ...   \n",
      "91708       0.0       0.0                          1.0          NaN   \n",
      "91709       0.0       0.0                          0.0          NaN   \n",
      "91710       0.0       0.0                          0.0          NaN   \n",
      "91711       0.0       0.0                          0.0          NaN   \n",
      "91712       0.0       0.0                          0.0          NaN   \n",
      "\n",
      "       hospital_death  \n",
      "0                   0  \n",
      "1                   0  \n",
      "2                   0  \n",
      "3                   0  \n",
      "4                   0  \n",
      "...               ...  \n",
      "91708               0  \n",
      "91709               0  \n",
      "91710               0  \n",
      "91711               0  \n",
      "91712               0  \n",
      "\n",
      "[91713 rows x 78 columns]\n"
     ]
    }
   ],
   "source": [
    "# Rellenar los valores nulos con el valor medio de cada columna\n",
    "dataset_sin_nulos = dataframe_.fillna(dataframe_.mean())\n",
    "print(dataset_sin_nulos)"
   ]
  },
  {
   "cell_type": "code",
   "execution_count": 91,
   "metadata": {},
   "outputs": [
    {
     "name": "stdout",
     "output_type": "stream",
     "text": [
      "        encounter_id     patient_id   hospital_id           age           bmi  \\\n",
      "count   91713.000000   91713.000000  91713.000000  91713.000000  91713.000000   \n",
      "mean    65606.079280   65537.131464    105.669262     62.309516     29.185818   \n",
      "std     37795.088538   37811.252183     62.854406     16.383883      8.118970   \n",
      "min         1.000000       1.000000      2.000000     16.000000     14.844926   \n",
      "25%     32852.000000   32830.000000     47.000000     53.000000     23.787760   \n",
      "50%     65665.000000   65413.000000    109.000000     64.000000     28.007812   \n",
      "75%     98342.000000   98298.000000    161.000000     75.000000     32.653061   \n",
      "max    131051.000000  131051.000000    204.000000     89.000000     67.814990   \n",
      "\n",
      "       elective_surgery        height        icu_id  pre_icu_los_days  \\\n",
      "count      91713.000000  91713.000000  91713.000000      91713.000000   \n",
      "mean           0.183736    169.641588    508.357692          0.835766   \n",
      "std            0.387271     10.716578    228.989661          2.487756   \n",
      "min            0.000000    137.200000     82.000000        -24.947222   \n",
      "25%            0.000000    162.560000    369.000000          0.035417   \n",
      "50%            0.000000    170.000000    504.000000          0.138889   \n",
      "75%            0.000000    177.800000    679.000000          0.409028   \n",
      "max            1.000000    195.590000    927.000000        159.090972   \n",
      "\n",
      "             weight  ...          aids     cirrhosis  diabetes_mellitus  \\\n",
      "count  91713.000000  ...  91713.000000  91713.000000       91713.000000   \n",
      "mean      84.028340  ...      0.000857      0.015693           0.225192   \n",
      "std       24.637809  ...      0.029151      0.123799           0.416079   \n",
      "min       38.600000  ...      0.000000      0.000000           0.000000   \n",
      "25%       67.300000  ...      0.000000      0.000000           0.000000   \n",
      "50%       81.400000  ...      0.000000      0.000000           0.000000   \n",
      "75%       96.300000  ...      0.000000      0.000000           0.000000   \n",
      "max      186.000000  ...      1.000000      1.000000           1.000000   \n",
      "\n",
      "       hepatic_failure  immunosuppression      leukemia      lymphoma  \\\n",
      "count     91713.000000       91713.000000  91713.000000  91713.000000   \n",
      "mean          0.012989           0.026165      0.007066      0.004132   \n",
      "std           0.112786           0.159004      0.083436      0.063897   \n",
      "min           0.000000           0.000000      0.000000      0.000000   \n",
      "25%           0.000000           0.000000      0.000000      0.000000   \n",
      "50%           0.000000           0.000000      0.000000      0.000000   \n",
      "75%           0.000000           0.000000      0.000000      0.000000   \n",
      "max           1.000000           1.000000      1.000000      1.000000   \n",
      "\n",
      "       solid_tumor_with_metastasis  Unnamed: 83  hospital_death  \n",
      "count                 91713.000000          0.0    91713.000000  \n",
      "mean                      0.020638          NaN        0.086302  \n",
      "std                       0.141614          NaN        0.280811  \n",
      "min                       0.000000          NaN        0.000000  \n",
      "25%                       0.000000          NaN        0.000000  \n",
      "50%                       0.000000          NaN        0.000000  \n",
      "75%                       0.000000          NaN        0.000000  \n",
      "max                       1.000000          NaN        1.000000  \n",
      "\n",
      "[8 rows x 78 columns]\n"
     ]
    }
   ],
   "source": [
    "print(dataset_sin_nulos.describe())"
   ]
  },
  {
   "cell_type": "code",
   "execution_count": 92,
   "metadata": {},
   "outputs": [],
   "source": [
    "dataset = dataset_sin_nulos.drop(\"hospital_death\", axis=1)\n",
    "label = dataset_sin_nulos[\"hospital_death\"].copy()"
   ]
  },
  {
   "cell_type": "code",
   "execution_count": 119,
   "metadata": {},
   "outputs": [
    {
     "name": "stdout",
     "output_type": "stream",
     "text": [
      "(91713, 77)\n"
     ]
    }
   ],
   "source": [
    "print(dataset.shape)"
   ]
  },
  {
   "cell_type": "code",
   "execution_count": 120,
   "metadata": {},
   "outputs": [],
   "source": [
    "#dataset.to_csv('C:/Users/kiens/OneDrive/Escritorio/1-24/SIS420/IA-SIS420/primerParcial/Modelo2/Dataset/DatasetProcesado.csv', index=False)\n",
    "#label.to_csv('C:/Users/kiens/OneDrive/Escritorio/1-24/SIS420/IA-SIS420/primerParcial/Modelo2/Dataset/Label.csv', index=False)"
   ]
  },
  {
   "cell_type": "markdown",
   "metadata": {},
   "source": [
    "*CLASIFICACION*"
   ]
  },
  {
   "cell_type": "code",
   "execution_count": 54,
   "metadata": {},
   "outputs": [
    {
     "name": "stdout",
     "output_type": "stream",
     "text": [
      "[[6.61540e+04 2.53120e+04 1.18000e+02 ... 0.00000e+00 0.00000e+00\n",
      "  0.00000e+00]\n",
      " [1.14252e+05 5.93420e+04 8.10000e+01 ... 0.00000e+00 0.00000e+00\n",
      "  0.00000e+00]\n",
      " [1.19783e+05 5.07770e+04 1.18000e+02 ... 0.00000e+00 0.00000e+00\n",
      "  0.00000e+00]\n",
      " ...\n",
      " [1.25463e+05 3.00500e+04 3.70000e+01 ... 0.00000e+00 0.00000e+00\n",
      "  0.00000e+00]\n",
      " [1.35830e+04 1.81700e+04 1.85000e+02 ... 0.00000e+00 0.00000e+00\n",
      "  0.00000e+00]\n",
      " [1.25572e+05 8.30670e+04 1.57000e+02 ... 0.00000e+00 0.00000e+00\n",
      "  0.00000e+00]]\n",
      "[0. 0. 0. ... 0. 0. 0.]\n"
     ]
    }
   ],
   "source": [
    "# Cargar datos\n",
    "datax = np.loadtxt('C:/Users/kiens/OneDrive/Escritorio/1-24/SIS420/IA-SIS420/primerParcial/Modelo2/Dataset/DatasetProcesado.csv', delimiter=',')\n",
    "datay= np.loadtxt('C:/Users/kiens/OneDrive/Escritorio/1-24/SIS420/IA-SIS420/primerParcial/Modelo2/Dataset/Label.csv')\n",
    "#80% de los datos para entrenamiento y 20% para test\n",
    "X_train, y_train = datax[:73370, :], datay[:73370:]\n",
    "X_test, y_test = datax[73370:, :], datay[73370:]\n",
    "X = X_train\n",
    "y = y_train\n",
    "print(X)\n",
    "print(y)"
   ]
  },
  {
   "cell_type": "code",
   "execution_count": 55,
   "metadata": {},
   "outputs": [],
   "source": [
    "def sigmoid(z):\n",
    "    # Calcula la sigmoide de una entrada z\n",
    "    # convierte la intrada a un arreglo numpy\n",
    "    z = np.array(z)\n",
    "\n",
    "    g = np.zeros(z.shape)\n",
    "\n",
    "    g = 1 / (1 + np.exp(-z))\n",
    "\n",
    "    return g"
   ]
  },
  {
   "cell_type": "code",
   "execution_count": 56,
   "metadata": {},
   "outputs": [],
   "source": [
    "# llama featureNormalize que ya se tiene definido para las anteriores predicciones \n",
    "X_norm, mu, sigma = featureNormalize(X)"
   ]
  },
  {
   "cell_type": "code",
   "execution_count": 57,
   "metadata": {},
   "outputs": [],
   "source": [
    "# Configurar la matriz adecuadamente, y agregar una columna de unos que corresponde al termino de intercepción.\n",
    "m, n = X.shape\n",
    "# Agraga el termino de intercepción a A\n",
    "X = np.concatenate([np.ones((m, 1)), X_norm], axis=1)\n",
    "# X = np.concatenate([np.ones((m, 1)), X], axis=1)"
   ]
  },
  {
   "cell_type": "code",
   "execution_count": 58,
   "metadata": {},
   "outputs": [],
   "source": [
    "def calcularCostoReg(theta, X, y, lambda_):\n",
    "    # Inicializar algunos valores utiles\n",
    "    m = y.size  # numero de ejemplos de entrenamiento\n",
    "\n",
    "    J = 0\n",
    "    temp=theta\n",
    "    temp[0]=0\n",
    "    h = sigmoid(X.dot(theta.T))\n",
    "    J = (1 / m) * np.sum(-y.dot(np.log(h)) - (1 - y).dot(np.log(1 - h))) + (lambda_ / (2 * m)) * np.sum(np.square(temp))\n",
    "    \n",
    "    return J"
   ]
  },
  {
   "cell_type": "code",
   "execution_count": 59,
   "metadata": {},
   "outputs": [],
   "source": [
    "def descensoGradienteReg(theta, X, y, alpha, num_iters, lambda_):\n",
    "    # Inicializa algunos valores\n",
    "    m = y.shape[0] # numero de ejemplos de entrenamiento\n",
    "\n",
    "    # realiza una copia de theta, el cual será acutalizada por el descenso por el gradiente\n",
    "    theta = theta.copy()\n",
    "    J_history = []\n",
    "\n",
    "    for i in range(num_iters):\n",
    "        h = sigmoid(X.dot(theta.T))\n",
    "        temp=theta\n",
    "        temp[0]=0\n",
    "        theta = theta - (alpha / m) * (h - y).dot(X) + (lambda_ / m) * temp\n",
    "\n",
    "        J_history.append(calcularCostoReg(theta, X, y, lambda_))\n",
    "    return theta, J_history"
   ]
  },
  {
   "cell_type": "code",
   "execution_count": 60,
   "metadata": {},
   "outputs": [
    {
     "name": "stdout",
     "output_type": "stream",
     "text": [
      "theta calculado por el descenso por el gradiente: [ 0.         -0.00564992  0.00423868  0.00356476  0.06321185 -0.01558162\n",
      " -0.03666554  0.00790547  0.01838162  0.04626629 -0.01389501 -0.01494036\n",
      " -0.02858238 -0.0302694   0.00939427 -0.06097207 -0.11460923  0.03075447\n",
      " -0.0234006   0.01411799  0.02980266  0.01724424  0.02361241 -0.04117517\n",
      "  0.06274682 -0.00834865 -0.01770252 -0.0060557  -0.01678814  0.05780799\n",
      " -0.02166993 -0.00233234 -0.02369563  0.00077892 -0.02075293  0.00183862\n",
      "  0.02820902 -0.04432496 -0.13312721 -0.00436376 -0.02413526 -0.00172239\n",
      " -0.02230717 -0.02814977 -0.0930536   0.00720168  0.00203178  0.00665045\n",
      " -0.00889994 -0.00070985  0.01182136  0.00021574 -0.00612405  0.00090684\n",
      " -0.01729436  0.02098788  0.04733985 -0.01552753 -0.00096438 -0.00200612\n",
      "  0.00111613  0.00337613 -0.00494745  0.02084066  0.02398093  0.04214845\n",
      "  0.01074232  0.10367195  0.08193484  0.00326464  0.01938421 -0.02903189\n",
      "  0.02219642  0.0183692   0.01771623  0.01150453  0.04180992]\n"
     ]
    },
    {
     "data": {
      "image/png": "[encoded data removed]",
      "text/plain": [
       "<Figure size 640x480 with 1 Axes>"
      ]
     },
     "metadata": {},
     "output_type": "display_data"
    }
   ],
   "source": [
    "# Elegir algun valor para alpha (probar varias alternativas)\n",
    "alpha = 0.01\n",
    "num_iters = 1000\n",
    "lambda_ = 0.1 #0.01\n",
    "# inicializa theta y ejecuta el descenso por el gradiente\n",
    "theta = np.zeros(77)\n",
    "theta, J_history = descensoGradienteReg(theta, X, y, alpha, num_iters,lambda_)\n",
    "# Grafica la convergencia del costo\n",
    "pyplot.plot(np.arange(len(J_history)), J_history, lw=2)\n",
    "pyplot.xlabel('Numero de iteraciones')\n",
    "pyplot.ylabel('Costo J')\n",
    "\n",
    "# Muestra los resultados del descenso por el gradiente\n",
    "print('theta calculado por el descenso por el gradiente: {:s}'.format(str(theta)))"
   ]
  },
  {
   "cell_type": "code",
   "execution_count": 62,
   "metadata": {},
   "outputs": [
    {
     "name": "stdout",
     "output_type": "stream",
     "text": [
      "[0.4382356  0.56274496 0.4253374  ... 0.57339731 0.52898308 0.51931175]\n",
      "[0. 0. 0. ... 0. 0. 0.]\n"
     ]
    }
   ],
   "source": [
    "# Normalizar el conjunto de características de prueba y obtener la media (mu) y la desviación estándar (sigma)\n",
    "X_test_norm, mu, sigma = featureNormalize(X_test)\n",
    "\n",
    "# Obtener las dimensiones de la matriz de características normalizadas\n",
    "m, n = X_test_norm.shape\n",
    "\n",
    "# Agregar una columna de unos al inicio de la matriz de características normalizadas\n",
    "X_test_norm = np.concatenate([np.ones((m, 1)), X_test_norm], axis=1)\n",
    "\n",
    "#Si el paciente sobrevive o no\n",
    "sobrevive= sigmoid(np.dot(X_test_norm, theta))\n",
    "\n",
    "# Imprimir las probabilidades de abandono calculadas para cada instancia en el conjunto de prueba\n",
    "print(sobrevive)\n",
    "print(y_test)"
   ]
  },
  {
   "cell_type": "code",
   "execution_count": 63,
   "metadata": {},
   "outputs": [
    {
     "name": "stdout",
     "output_type": "stream",
     "text": [
      "[0. 1. 0. ... 1. 1. 1.]\n",
      "[0. 0. 0. ... 0. 0. 0.]\n",
      "Porcentaje de acierto: 65.33282451071253\n"
     ]
    }
   ],
   "source": [
    "#Efectividad\n",
    "sobrevive[sobrevive >= 0.5] = 1\n",
    "sobrevive[sobrevive < 0.5] = 0\n",
    "print(sobrevive)\n",
    "print(y_test)\n",
    "#Porcentaje de acierto\n",
    "porcentaje = np.mean(sobrevive == y_test) * 100\n",
    "print(\"Porcentaje de acierto:\", porcentaje)"
   ]
  },
  {
   "cell_type": "code",
   "execution_count": 64,
   "metadata": {},
   "outputs": [
    {
     "name": "stdout",
     "output_type": "stream",
     "text": [
      "0.0\n",
      "0.0\n"
     ]
    }
   ],
   "source": [
    "print(sobrevive[101])\n",
    "print(y_test[101])"
   ]
  }
 ],
 "metadata": {
  "kernelspec": {
   "display_name": "Python 3",
   "language": "python",
   "name": "python3"
  },
  "language_info": {
   "codemirror_mode": {
    "name": "ipython",
    "version": 3
   },
   "file_extension": ".py",
   "mimetype": "text/x-python",
   "name": "python",
   "nbconvert_exporter": "python",
   "pygments_lexer": "ipython3",
   "version": "3.12.2"
  }
 },
 "nbformat": 4,
 "nbformat_minor": 2
}
